{
 "cells": [
  {
   "cell_type": "markdown",
   "metadata": {},
   "source": [
    "# *Elements of Statistical Learning* - Exercise 3.2"
   ]
  },
  {
   "cell_type": "markdown",
   "metadata": {},
   "source": [
    "> **Author**: Lorenzo BATTARRA\n",
    ">\n",
    "> **Last reviewed**: 2019/01/02"
   ]
  },
  {
   "cell_type": "markdown",
   "metadata": {},
   "source": [
    "## 0. Imports"
   ]
  },
  {
   "cell_type": "code",
   "execution_count": 18,
   "metadata": {},
   "outputs": [],
   "source": [
    "import pandas as pd\n",
    "import numpy as np\n",
    "import matplotlib.pyplot as plt\n",
    "from tqdm import tqdm\n",
    "import scipy.stats as sts\n",
    "import scipy as sp\n",
    "\n",
    "from matplotlib.patches import Rectangle, Circle\n",
    "from matplotlib.collections import PatchCollection"
   ]
  },
  {
   "cell_type": "code",
   "execution_count": 19,
   "metadata": {},
   "outputs": [],
   "source": [
    "# matplotlib styling\n",
    "\n",
    "#plt.style.available[:20]\n",
    "plt.style.use('ggplot')"
   ]
  },
  {
   "cell_type": "code",
   "execution_count": 20,
   "metadata": {},
   "outputs": [],
   "source": [
    "#Add `pyesl` path\n",
    "\n",
    "import os, sys\n",
    "sys.path.append(os.path.dirname(os.path.dirname(os.getcwd())))\n",
    "\n",
    "from pyesl.esl_helpers import plt_style"
   ]
  },
  {
   "cell_type": "code",
   "execution_count": 21,
   "metadata": {},
   "outputs": [],
   "source": [
    "data_dir = '../../Data/'"
   ]
  },
  {
   "cell_type": "markdown",
   "metadata": {},
   "source": [
    "## 1. Figure showing the difference in confidence bands"
   ]
  },
  {
   "cell_type": "code",
   "execution_count": 22,
   "metadata": {},
   "outputs": [
    {
     "data": {
      "image/png": "[encoded data removed]",
      "text/plain": [
       "<Figure size 288x288 with 1 Axes>"
      ]
     },
     "metadata": {},
     "output_type": "display_data"
    }
   ],
   "source": [
    "figWidth = 4\n",
    "figHeight = 4\n",
    "fig = plt.figure(figsize=(figWidth,figHeight))\n",
    "ax = fig.add_subplot(111)\n",
    "\n",
    "chi1 = np.sqrt(sts.chi2.ppf(0.95, 1, loc=0, scale=1))\n",
    "chi2 = np.sqrt(sts.chi2.ppf(0.95, 2, loc=0, scale=1))\n",
    "\n",
    "r1 = Rectangle((-chi1, -4), width = 2 * chi1, height = 8)\n",
    "r2 = Circle((0, 0), radius = chi2)\n",
    "\n",
    "b1 = Rectangle((-chi1, -0.1), width = 2 * chi1, height = 0.1)\n",
    "b2 = Rectangle((-chi2, 0), width = 2 * chi2, height = 0.1)\n",
    "\n",
    "p1 = PatchCollection([r1], facecolor='tab:red', edgecolor='None', alpha=0.3)\n",
    "p2 = PatchCollection([r2], facecolor='tab:blue', edgecolor='None', alpha=0.3)\n",
    "\n",
    "q1 = PatchCollection([b1], facecolor='tab:red', edgecolor='None', alpha=1.0)\n",
    "q2 = PatchCollection([b2], facecolor='tab:blue', edgecolor='None', alpha=1.0)\n",
    "\n",
    "ax.add_collection(p1)\n",
    "ax.add_collection(p2)\n",
    "ax.add_collection(q1)\n",
    "ax.add_collection(q2)\n",
    "\n",
    "ax.set_xticks(np.arange(-4, 4.01, 2.0))\n",
    "ax.set_yticks(np.arange(-4, 4.01, 2.0))\n",
    "\n",
    "ax.set_xlabel(r\"$\\beta _1$\")\n",
    "ax.set_ylabel(r'$\\beta_2$')\n",
    "\n",
    "ax.set_xlim([-4, 4])\n",
    "ax.set_ylim([-4, 4])\n",
    "\n",
    "ax.text(0.8,-0.5,\"$\\mathcal{C}_1$\", size=15, ha=\"center\", va=\"center\", color='tab:red')\n",
    "ax.text(0.8, 0.5, \"$\\mathcal{C}_2$\", size=15, ha=\"center\", va=\"center\", color='tab:blue')\n",
    "\n",
    "ax.grid(True, which='both')\n",
    "plt.show()\n",
    "\n",
    "#ax.get_figure().savefig(str(Path(os.getcwd()).parent.parent) + '/ESLExLatex/Figures/E3p2_A.pdf', bbox_inches='tight', pad_inches = 0)"
   ]
  },
  {
   "cell_type": "markdown",
   "metadata": {},
   "source": [
    "> The two areas have the same total probability under a 2d unit norm centered gaussian, but they correspond to different intervals for $\\beta_1$"
   ]
  },
  {
   "cell_type": "markdown",
   "metadata": {},
   "source": [
    "## 2. Example on a polynomial of degree 3"
   ]
  },
  {
   "cell_type": "markdown",
   "metadata": {},
   "source": [
    "> - $X$ uniformly distributed between $-1$ and $1$\n",
    "> - $Y = \\beta_0 + \\beta_1\\, X + \\beta_2\\, X^2 + \\beta_3\\, X^3 + \\sigma\\, \\epsilon$:\n",
    ">   - $\\beta_i$ sampled from unit norm centered normal\n",
    ">   - $\\epsilon$ unit normal centered normal"
   ]
  },
  {
   "cell_type": "code",
   "execution_count": 23,
   "metadata": {},
   "outputs": [],
   "source": [
    "# example:\n",
    "np.random.seed(0)\n",
    "\n",
    "beta = np.random.randn(4)\n",
    "sigma = 0.5\n",
    "N = 30\n",
    "p = 3\n",
    "X_1 = np.random.uniform(low = -1.0, high = 1.0, size = N)\n",
    "\n",
    "X = np.ones((N, 4))\n",
    "for k in range(1, 4):\n",
    "    X[:,k] = X[:,k - 1] * X_1\n",
    "    \n",
    "Y = np.dot(X, beta) + sigma * np.random.randn(N)"
   ]
  },
  {
   "cell_type": "markdown",
   "metadata": {},
   "source": [
    "> Linear regression"
   ]
  },
  {
   "cell_type": "code",
   "execution_count": 24,
   "metadata": {},
   "outputs": [],
   "source": [
    "betahat = np.dot(np.dot(np.linalg.inv(np.dot(X.T, X)), X.T), Y)\n",
    "Yhat = np.dot(X, betahat)\n",
    "Yr = Y - Yhat\n",
    "\n",
    "# sample estimate of residual variance\n",
    "sigma2hat = np.sum(Yr * Yr) / (N - p - 1)"
   ]
  },
  {
   "cell_type": "markdown",
   "metadata": {},
   "source": [
    "> Sample points where we estimate confidence interval"
   ]
  },
  {
   "cell_type": "code",
   "execution_count": 25,
   "metadata": {},
   "outputs": [],
   "source": [
    "x0test = np.arange(start = -1.1, stop = 1.101, step = 0.01)\n",
    "X0test = np.zeros((x0test.shape[0], 4)) + 1\n",
    "for k in range(1, 4):\n",
    "    X0test[:,k] = X0test[:,k - 1] * x0test"
   ]
  },
  {
   "cell_type": "code",
   "execution_count": 26,
   "metadata": {},
   "outputs": [],
   "source": [
    "# point-wise band\n",
    "YhatTest = np.dot(X0test, betahat)\n",
    "chi_1_95 = sts.chi2.ppf(0.95, 1, loc=0, scale=1)\n",
    "pointBandSide = np.sqrt(chi_1_95 * sigma2hat * np.diag(np.dot(X0test, np.dot(np.linalg.inv(np.dot(X.T, X)), X0test.T))))"
   ]
  },
  {
   "cell_type": "code",
   "execution_count": 27,
   "metadata": {},
   "outputs": [],
   "source": [
    "# global band\n",
    "# letting Q be the square root of X^T.X, the confidence interval for beta is:\n",
    "# || Q (beta - beta_hat) ||^2 <= sigma_hat^2  chi_{p+1}^2 (1 - \\alpha)\n",
    "# This gives rise to a confidence band of size sigma_hat (chi_{p+1}^2 (1 - \\alpha))^{1/2} ||Q^{-1} x_0|| on each side of y_0\n",
    "\n",
    "Q = sp.linalg.sqrtm(np.dot(X.T, X))\n",
    "X0test_Qm = np.dot(X0test, np.linalg.inv(Q))\n",
    "\n",
    "chi_4_95 = sts.chi2.ppf(0.95, 4, loc=0, scale=1)\n",
    "\n",
    "globalBandSide = np.sqrt(sigma2hat * chi_4_95 * np.sum(X0test_Qm * X0test_Qm, axis = 1))"
   ]
  },
  {
   "cell_type": "code",
   "execution_count": 28,
   "metadata": {},
   "outputs": [
    {
     "data": {
      "image/png": "[encoded data removed]",
      "text/plain": [
       "<Figure size 288x288 with 1 Axes>"
      ]
     },
     "metadata": {},
     "output_type": "display_data"
    }
   ],
   "source": [
    "figWidth = 4\n",
    "figHeight = 4\n",
    "fig = plt.figure(figsize=(figWidth,figHeight))\n",
    "ax = fig.add_subplot(111)\n",
    "\n",
    "ax.scatter(X_1, Y, s = 10, color = 'black', alpha = 0.5)\n",
    "ax.plot(x0test, YhatTest, color = 'black', **plt_style('dashed'))\n",
    "ax.plot(x0test, YhatTest + pointBandSide, label=r'$\\mathcal{C}_1$', **plt_style('color2'))\n",
    "ax.plot(x0test, YhatTest - pointBandSide, **plt_style('color2'))\n",
    "ax.plot(x0test, YhatTest + globalBandSide, label=r'$\\mathcal{C}_2$', **plt_style('color1'))\n",
    "ax.plot(x0test, YhatTest - globalBandSide, **plt_style('color1'))\n",
    "\n",
    "\n",
    "ax.set_xlabel(r\"x\")\n",
    "ax.set_ylabel(r'y')\n",
    "\n",
    "ax.set_xlim([-1, 1])\n",
    "ax.set_ylim([-1.2, 7])\n",
    "\n",
    "ax.grid(True, which='both')\n",
    "ax.legend()\n",
    "ax.get_figure().savefig('../../notes/Figures/E3p2_B.pdf', bbox_inches='tight', pad_inches = 0)\n",
    "plt.show()"
   ]
  },
  {
   "cell_type": "code",
   "execution_count": null,
   "metadata": {
    "collapsed": true
   },
   "outputs": [],
   "source": []
  }
 ],
 "metadata": {
  "kernelspec": {
   "display_name": "Python 3",
   "language": "python",
   "name": "python3"
  },
  "language_info": {
   "codemirror_mode": {
    "name": "ipython",
    "version": 3
   },
   "file_extension": ".py",
   "mimetype": "text/x-python",
   "name": "python",
   "nbconvert_exporter": "python",
   "pygments_lexer": "ipython3",
   "version": "3.7.3"
  }
 },
 "nbformat": 4,
 "nbformat_minor": 2
}

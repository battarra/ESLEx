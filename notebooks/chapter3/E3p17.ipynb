{
 "cells": [
  {
   "cell_type": "code",
   "execution_count": 138,
   "metadata": {
    "collapsed": true
   },
   "outputs": [],
   "source": [
    "import matplotlib.patches as ptc\n",
    "import matplotlib.pyplot as plt\n",
    "from matplotlib.collections import PatchCollection\n",
    "\n",
    "import os\n",
    "from pathlib import Path\n",
    "\n",
    "dataDir = str(Path(os.getcwd()).parent) + '/Data/'\n",
    "\n",
    "import scipy.stats as sts\n",
    "import numpy as np\n",
    "import pandas as pd"
   ]
  },
  {
   "cell_type": "markdown",
   "metadata": {},
   "source": [
    "## OLS"
   ]
  },
  {
   "cell_type": "code",
   "execution_count": 139,
   "metadata": {
    "collapsed": true
   },
   "outputs": [],
   "source": [
    "class Ols:\n",
    "    def __init__(self, addIntercept = True):\n",
    "        self.addIntercept = addIntercept\n",
    "        \n",
    "    def train(self, X, Y):\n",
    "        Xpred = self.getFullPredictorMatrix(X)\n",
    "        betaFull = np.dot(np.dot(np.linalg.inv(np.dot(Xpred.T, Xpred)), Xpred.T), Y)\n",
    "        \n",
    "        K = Y.shape[1]\n",
    "        p = X.shape[1]\n",
    "        self.beta = betaFull[0:p,:]\n",
    "        self.intercept = betaFull[p,:] if self.addIntercept else 0.0\n",
    "        \n",
    "    def predict(self, X):\n",
    "        return self.intercept + np.dot(X, self.beta)\n",
    "            \n",
    "    def getFullPredictorMatrix(self, X):\n",
    "        if not self.addIntercept:\n",
    "            return X\n",
    "        N, p = X.shape\n",
    "        Xcomplete = np.zeros((N, p + 1))\n",
    "        Xcomplete[:,0:p] = X\n",
    "        Xcomplete[:,p] = 1.0\n",
    "        return Xcomplete"
   ]
  },
  {
   "cell_type": "markdown",
   "metadata": {},
   "source": [
    "## Best subset"
   ]
  },
  {
   "cell_type": "code",
   "execution_count": 140,
   "metadata": {
    "collapsed": true
   },
   "outputs": [],
   "source": [
    "def allSubsetsIndices(p, M):\n",
    "    subList = [-1] * M\n",
    "    subLists = []\n",
    "    \n",
    "    addAllSubsets(subList, subLists, p, 0, M, 0)\n",
    "    return subLists\n",
    "    \n",
    "def addAllSubsets(subList, subLists, p, iStart, Mremaining, k):\n",
    "    if Mremaining == 0:\n",
    "        subLists.append(list(subList))\n",
    "        return\n",
    "    \n",
    "    for i in range(iStart, p - Mremaining + 1):\n",
    "        subList[k] = i\n",
    "        addAllSubsets(subList, subLists, p, i + 1, Mremaining - 1, k + 1)"
   ]
  },
  {
   "cell_type": "code",
   "execution_count": 141,
   "metadata": {
    "collapsed": true
   },
   "outputs": [],
   "source": [
    "class BestSubset:    \n",
    "    def __init__(self, subsetSize, modelFactory = lambda: Ols(), penalty = lambda Yr: np.sum(Yr * Yr)):\n",
    "        self.subsetSize = subsetSize\n",
    "        self.modelFactory = modelFactory\n",
    "        self.penalty = penalty\n",
    "    \n",
    "    def train(self, X, Y):\n",
    "        allSubsets = allSubsetsIndices(X.shape[1], self.subsetSize)\n",
    "        minPenalty = np.inf\n",
    "        for subset in allSubsets:\n",
    "            Xsub = X[:, subset[::1]]\n",
    "            model = self.modelFactory()\n",
    "            model.train(Xsub, Y)\n",
    "            Yhat = model.predict(Xsub)\n",
    "            penalty = self.penalty(Y - Yhat)\n",
    "            if penalty < minPenalty:\n",
    "                minPenalty = penalty\n",
    "                self.bestSubset = subset\n",
    "                self.bestModel = model\n",
    "                \n",
    "    def predict(self, X):\n",
    "        return self.bestModel.predict(X[:,self.bestSubset[::1]])"
   ]
  },
  {
   "cell_type": "markdown",
   "metadata": {},
   "source": [
    "## Ridge"
   ]
  },
  {
   "cell_type": "code",
   "execution_count": 214,
   "metadata": {
    "collapsed": true
   },
   "outputs": [],
   "source": [
    "def monotonicBisection(f, x0Left, x0Right, fTolerance, maxIterations = 1000):\n",
    "    i = 0\n",
    "    xLeft = x0Left\n",
    "    xRight = x0Right\n",
    "    \n",
    "    fLeft = f(xLeft)\n",
    "    fRight = f(xRight)\n",
    "    \n",
    "    if fLeft == 0:\n",
    "        return x0Left\n",
    "    if fRight == 0:\n",
    "        return x0Right\n",
    "    if xLeft == xRight or fLeft == fRight:\n",
    "        raise Exception('Wrong initialization')\n",
    "    \n",
    "    increasing = (fRight > fLeft)\n",
    "    #print(\"\")\n",
    "    while fRight * fLeft > 0 and i < maxIterations: \n",
    "        #print(\"{0}:{1}  - {2}:{3}\".format(xLeft, fLeft, xRight, fRight))\n",
    "        if (fRight < 0) == increasing:\n",
    "            xRight = 2 * xRight - xLeft\n",
    "            fRight = f(xRight)\n",
    "        else:\n",
    "            xLeft = 2 * xLeft - xRight\n",
    "            fLeft = f(xLeft)\n",
    "        i = i + 1\n",
    "        \n",
    "    if i == maxIterations:\n",
    "        raise Exception('Ran out of iterations while looking for initial conditions')\n",
    "    \n",
    "    while max(abs(fLeft), abs(fRight)) > fTolerance and i < maxIterations:\n",
    "        #print(\"{0}:{1}  - {2}:{3}\".format(xLeft, fLeft, xRight, fRight))\n",
    "        xMiddle = 0.5 * (xRight + xLeft)\n",
    "        fMiddle = f(xMiddle)\n",
    "        if fMiddle == 0:\n",
    "            return xMiddle\n",
    "        \n",
    "        if fMiddle * fRight > 0:\n",
    "            xRight = xMiddle\n",
    "            fRight = fMiddle\n",
    "        else:\n",
    "            xLeft = xMiddle\n",
    "            fLeft = fMiddle\n",
    "        \n",
    "        i = i + 1\n",
    "        \n",
    "    if i == maxIterations:\n",
    "        raise Exception('Ran out of iterations while bisecting')\n",
    "    return (xRight + xLeft) / 2"
   ]
  },
  {
   "cell_type": "code",
   "execution_count": 218,
   "metadata": {},
   "outputs": [],
   "source": [
    "class Ridge:\n",
    "    def __init__(self, ndof):\n",
    "        self.ndof = ndof\n",
    "        \n",
    "    def train(self, X, Y):\n",
    "        self.Xmean = np.expand_dims(np.average(X, axis = 0), axis = 0)\n",
    "        Xnorm = X - self.Xmean\n",
    "        self.Xsd = np.expand_dims(np.sqrt(np.average(X * X, axis = 0)), axis = 0)\n",
    "        Xnorm = Xnorm / self.Xsd\n",
    "        self.Ymean = np.expand_dims(np.average(Y, axis = 0), axis = 0)\n",
    "        \n",
    "        betaMatrix = lambda lmbd: np.dot(np.linalg.inv(np.dot(Xnorm.T, Xnorm) + lmbd * np.identity(Xnorm.shape[1])), Xnorm.T) \n",
    "        ndofLambda = lambda lmbd: np.trace(np.dot(Xnorm, betaMatrix(lmbd)))\n",
    "        \n",
    "        if self.ndof == X.shape[1]:\n",
    "            self.lmbd = 0\n",
    "            self.beta = np.dot(betaMatrix(self.lmbd), Y)\n",
    "        elif self.ndof > 0:\n",
    "            nu = monotonicBisection(lambda n: ndofLambda(np.exp(n)) - self.ndof, 0, 1, 0.0001)\n",
    "            self.lmbd = np.exp(nu)\n",
    "            self.beta = np.dot(betaMatrix(self.lmbd), Y)\n",
    "        else:\n",
    "            self.lmbd = np.inf\n",
    "            self.beta = np.zeros((X.shape[1], Y.shape[1]))\n",
    "                             \n",
    "    def predict(self, X):\n",
    "        return self.Ymean + np.dot((X - self.Xmean) / self.Xsd, self.beta)"
   ]
  },
  {
   "cell_type": "code",
   "execution_count": null,
   "metadata": {
    "collapsed": true
   },
   "outputs": [],
   "source": []
  },
  {
   "cell_type": "code",
   "execution_count": null,
   "metadata": {
    "collapsed": true
   },
   "outputs": [],
   "source": []
  },
  {
   "cell_type": "code",
   "execution_count": null,
   "metadata": {
    "collapsed": true
   },
   "outputs": [],
   "source": []
  },
  {
   "cell_type": "code",
   "execution_count": null,
   "metadata": {
    "collapsed": true
   },
   "outputs": [],
   "source": []
  },
  {
   "cell_type": "code",
   "execution_count": null,
   "metadata": {
    "collapsed": true
   },
   "outputs": [],
   "source": []
  },
  {
   "cell_type": "code",
   "execution_count": 36,
   "metadata": {},
   "outputs": [
    {
     "data": {
      "text/plain": [
       "Index(['lcavol', 'lweight', 'age', 'lbph', 'svi', 'lcp', 'gleason', 'pgg45',\n",
       "       'lpsa', 'train'],\n",
       "      dtype='object')"
      ]
     },
     "execution_count": 36,
     "metadata": {},
     "output_type": "execute_result"
    }
   ],
   "source": [
    "data = pd.read_csv(dataDir + 'prostate.data', delimiter = '\\t')\n",
    "\n",
    "# dropping index column\n",
    "data = data.drop(data.columns[0], axis = 1)\n",
    "\n",
    "data.columns"
   ]
  },
  {
   "cell_type": "code",
   "execution_count": 37,
   "metadata": {
    "collapsed": true
   },
   "outputs": [],
   "source": [
    "data_preds = data.copy(deep=True)\n",
    "data_preds = data_preds.drop('lpsa', axis = 1).drop('train', axis = 1)\n",
    "predNames = list(data_preds)\n",
    "\n",
    "X = np.array(data_preds)\n",
    "Y = np.expand_dims(np.array(data['lpsa']), axis = 1)\n",
    "train = np.array([True if x == 'T' else False for x in data['train']])\n",
    "\n",
    "X_train = X[train]\n",
    "Y_train = Y[train]\n",
    "X_test = X[np.logical_not(train)]\n",
    "Y_test = Y[np.logical_not(train)]"
   ]
  },
  {
   "cell_type": "code",
   "execution_count": 38,
   "metadata": {
    "collapsed": true
   },
   "outputs": [],
   "source": [
    "results = pd.DataFrame()\n",
    "results['Value'] = predNames + ['Test Error', 'Std Error']"
   ]
  },
  {
   "cell_type": "markdown",
   "metadata": {},
   "source": [
    "## Basic helpers"
   ]
  },
  {
   "cell_type": "code",
   "execution_count": 5,
   "metadata": {
    "collapsed": true
   },
   "outputs": [],
   "source": [
    "# data folder: splits N rows in NFolds folds, (NFolds - 1) of which have the same size, fixed to be the\n",
    "# maximum size such that the last fold is at least as large.\n",
    "\n",
    "class DataFolder:\n",
    "    def __init__(self, N, NFolds, seed = 0, permute = True):\n",
    "        self.N = N\n",
    "        self.NFolds = NFolds\n",
    "        np.random.seed(seed)\n",
    "        self.indices = (np.random.permutation(N) if permute else np.array(range(N)))       \n",
    "        self.smallFoldSize = int(N / NFolds)\n",
    "    \n",
    "    def getFoldPair(self, foldIndex, Z):\n",
    "        IFoldStart = foldIndex * self.smallFoldSize\n",
    "        IFoldEnd = (foldIndex + 1) * self.smallFoldSize if foldIndex < self.NFolds - 1 else self.N\n",
    "        \n",
    "        NFold = IFoldEnd - IFoldStart\n",
    "        foldData = Z[(self.indices[IFoldStart:IFoldEnd])[::1],:]\n",
    "        foldExclData = np.zeros((self.N - NFold,Z.shape[1]))\n",
    "        foldExclData[0:IFoldStart,:] = Z[(self.indices[0:IFoldStart])[::1],:]\n",
    "        foldExclData[IFoldStart:self.N - NFold,:] = Z[(self.indices[IFoldEnd:self.N])[::1],:]\n",
    "        \n",
    "        return foldData, foldExclData\n",
    "    \n",
    "\n",
    "def RsStats(model, X, Y):\n",
    "    Yhat = model.predict(X)\n",
    "    rs = (Y - Yhat) * (Y - Yhat)\n",
    "    return {\"avg\": np.average(rs), \"stdev\": np.sqrt(np.var(rs) / (X.shape[0] - 1))}\n",
    "\n",
    "def bcorrs(X, Y):\n",
    "    return np.dot(X.T, Y) / np.sqrt(np.expand_dims(np.sum(X * X, axis = 0), axis = 1) * np.expand_dims(np.sum(Y * Y, axis = 0), axis = 0))\n",
    "\n"
   ]
  },
  {
   "cell_type": "code",
   "execution_count": 63,
   "metadata": {
    "collapsed": true
   },
   "outputs": [],
   "source": [
    "# stats(Y, Yhat)\n",
    "def CVStats(locModel, X, Y, NFolds, statsFn, permute = True, seed = 0):\n",
    "    N = X.shape[0]\n",
    "    df = DataFolder(N, NFolds, seed, permute)\n",
    "    cvErrors = []\n",
    "    for fIndex in range(NFolds):\n",
    "        Xfold, XfoldExcl = df.getFoldPair(fIndex, X_train)\n",
    "        Yfold, YfoldExcl = df.getFoldPair(fIndex, Y_train)\n",
    "        locModel.train(XfoldExcl, YfoldExcl)\n",
    "        cvErrors.append(statsFn(Yfold, locModel.predict(Xfold)))\n",
    "    \n",
    "    return cvErrors"
   ]
  },
  {
   "cell_type": "markdown",
   "metadata": {},
   "source": [
    "## Least squares"
   ]
  },
  {
   "cell_type": "code",
   "execution_count": 65,
   "metadata": {
    "collapsed": true
   },
   "outputs": [],
   "source": [
    "model = Ols(addIntercept = True)\n",
    "model.train(X_train, Y_train)\n",
    "testStats = RsStats(model, X_test, Y_test)\n",
    "model.testError = testStats[\"avg\"]\n",
    "model.testErrorStdev = testStats[\"stdev\"]\n",
    "tunedModels = {}\n",
    "tunedModels[\"LS\"] = model"
   ]
  },
  {
   "cell_type": "markdown",
   "metadata": {},
   "source": [
    "## Best subset"
   ]
  },
  {
   "cell_type": "code",
   "execution_count": 134,
   "metadata": {
    "collapsed": true
   },
   "outputs": [],
   "source": [
    "Mmin = 0\n",
    "Mmax = X_train.shape[1]\n",
    "NFolds = 10\n",
    "cvStats = lambda Y, Yhat: [Y.shape[0], np.average((Y - Yhat)*(Y - Yhat))]\n",
    "\n",
    "model = BestSubset(subsetSize = -1)\n",
    "\n",
    "stats = {}\n",
    "candidateMs = np.array(range(Mmin, Mmax + 1))\n",
    "for M in candidateMs:\n",
    "    model.subsetSize = M\n",
    "    stats[M] = CVStats(model, X_train, Y_train, NFolds, cvStats, permute = True, seed = 0)\n",
    "    \n",
    "cvErrors = [sum([x[1] * x[0] for x in value]) / X_train.shape[0] for key, value in stats.items()]\n",
    "cvStdevs = [np.sqrt(np.var([x[1] for x in value]) / NFolds) for key, value in stats.items()]"
   ]
  },
  {
   "cell_type": "code",
   "execution_count": 135,
   "metadata": {},
   "outputs": [
    {
     "data": {
      "image/png": "[encoded data removed]",
      "text/plain": [
       "<matplotlib.figure.Figure at 0x241b9654c18>"
      ]
     },
     "metadata": {},
     "output_type": "display_data"
    }
   ],
   "source": [
    "figWidth = 4\n",
    "figHeight = 4\n",
    "fig = plt.figure(figsize=(figWidth,figHeight))\n",
    "\n",
    "plt.errorbar(candidateMs, cvErrors, yerr = cvStdevs, fmt='--o', ecolor='g', elinewidth = 1, \\\n",
    "             capsize = 2)\n",
    "plt.grid(True)\n",
    "plt.xlabel(\"Subset size\")\n",
    "plt.ylabel(\"CV Error\")\n",
    "plt.show()"
   ]
  },
  {
   "cell_type": "code",
   "execution_count": 136,
   "metadata": {},
   "outputs": [
    {
     "name": "stdout",
     "output_type": "stream",
     "text": [
      "Parameter chosen by the 1-sd rule: 2\n"
     ]
    }
   ],
   "source": [
    "oneSdIndex = np.argmax(np.array(cvErrors) - np.array(cvStdevs) <= min(cvErrors))\n",
    "oneSdPar = candidateMs[oneSdIndex]\n",
    "print(\"Parameter chosen by the 1-sd rule: \" + str(oneSdPar))"
   ]
  },
  {
   "cell_type": "code",
   "execution_count": 137,
   "metadata": {
    "collapsed": true
   },
   "outputs": [],
   "source": [
    "# creating final model and assessing error\n",
    "model.M = oneSdPar\n",
    "model.train(X_train, Y_train)\n",
    "testStats = RsStats(model, X_test, Y_test)\n",
    "model.testError = testStats[\"avg\"]\n",
    "model.testErrorStdev = testStats[\"stdev\"]\n",
    "tunedModels[\"Best subset\"] = model"
   ]
  },
  {
   "cell_type": "markdown",
   "metadata": {},
   "source": [
    "## Ridge"
   ]
  },
  {
   "cell_type": "code",
   "execution_count": 220,
   "metadata": {},
   "outputs": [],
   "source": [
    "dofMin = 0\n",
    "dofMax = X_train.shape[1]\n",
    "NFolds = 10\n",
    "cvStats = lambda Y, Yhat: [Y.shape[0], np.average((Y - Yhat)*(Y - Yhat))]\n",
    "\n",
    "model = Ridge(ndof = 0)\n",
    "\n",
    "stats = {}\n",
    "candidateDofs = np.array(range(dofMin, dofMax + 1))\n",
    "for dofs in candidateDofs:\n",
    "    # fix the lambda outside the model instead of dof-dependent lambda...\n",
    "    model.ndof = dofs\n",
    "    stats[dofs] = CVStats(model, X_train, Y_train, NFolds, cvStats, permute = True, seed = 0)\n",
    "    \n",
    "cvErrors = [sum([x[1] * x[0] for x in value]) / X_train.shape[0] for key, value in stats.items()]\n",
    "cvStdevs = [np.sqrt(np.var([x[1] for x in value]) / NFolds) for key, value in stats.items()]"
   ]
  },
  {
   "cell_type": "code",
   "execution_count": 221,
   "metadata": {},
   "outputs": [
    {
     "data": {
      "image/png": "[encoded data removed]",
      "text/plain": [
       "<matplotlib.figure.Figure at 0x241b948ea90>"
      ]
     },
     "metadata": {},
     "output_type": "display_data"
    }
   ],
   "source": [
    "figWidth = 4\n",
    "figHeight = 4\n",
    "fig = plt.figure(figsize=(figWidth,figHeight))\n",
    "\n",
    "plt.errorbar(candidateDofs, cvErrors, yerr = cvStdevs, fmt='--o', ecolor='g', elinewidth = 1, \\\n",
    "             capsize = 2)\n",
    "plt.grid(True)\n",
    "plt.xlabel(\"Degrees of freedom\")\n",
    "plt.ylabel(\"CV Error\")\n",
    "plt.show()"
   ]
  },
  {
   "cell_type": "code",
   "execution_count": 222,
   "metadata": {},
   "outputs": [
    {
     "name": "stdout",
     "output_type": "stream",
     "text": [
      "Parameter chosen by the 1-sd rule: 3\n"
     ]
    }
   ],
   "source": [
    "oneSdIndex = np.argmax(np.array(cvErrors) - np.array(cvStdevs) <= min(cvErrors))\n",
    "oneSdPar = candidateDofs[oneSdIndex]\n",
    "print(\"Parameter chosen by the 1-sd rule: \" + str(oneSdPar))"
   ]
  },
  {
   "cell_type": "code",
   "execution_count": 223,
   "metadata": {
    "collapsed": true
   },
   "outputs": [],
   "source": [
    "# creating final model and assessing error\n",
    "model.dofs = oneSdPar\n",
    "model.train(X_train, Y_train)\n",
    "testStats = RsStats(model, X_test, Y_test)\n",
    "model.testError = testStats[\"avg\"]\n",
    "model.testErrorStdev = testStats[\"stdev\"]\n",
    "tunedModels[\"Ridge\"] = model"
   ]
  },
  {
   "cell_type": "markdown",
   "metadata": {},
   "source": [
    "## Lasso"
   ]
  },
  {
   "cell_type": "code",
   "execution_count": 52,
   "metadata": {
    "collapsed": true
   },
   "outputs": [],
   "source": [
    "class LASSO:\n",
    "    def __init__(self, Ym, coeffs):\n",
    "        self.Ym = Ym\n",
    "        self.coeffs = coeffs\n",
    "        \n",
    "    def __init__(self, fractionalArcLength):\n",
    "        self.fractionalArcLength = fractionalArcLength\n",
    "        \n",
    "    def train(self, X, Y):\n",
    "        path = LASSOPath()\n",
    "        path.train(X, Y)\n",
    "        self.Ym = path.Ym\n",
    "        self.coeffs = np.expand_dims(path.getBeta(self.fractionalArcLength * path.totalArcLength), axis = 1)\n",
    "        \n",
    "    def predict(self, X):\n",
    "        return self.Ym + np.dot(X, self.coeffs)\n",
    "\n",
    "# demeaning and normalisation are on by default\n",
    "class LASSOPath:       \n",
    "    \n",
    "    def train(self, X, Y):\n",
    "        y = Y[:,0]\n",
    "        p = X.shape[1]\n",
    "        self.Xm = np.expand_dims(np.average(X, axis = 0), axis = 0)\n",
    "        Xdm = X - self.Xm\n",
    "        self.Ym = np.expand_dims(np.average(Y, axis = 0), axis = 0)\n",
    "        self.Xvar = np.expand_dims(np.average(Xdm * Xdm, axis = 0), axis = 0)\n",
    "        \n",
    "        self.Xsd = np.sqrt(self.Xvar)\n",
    "        Z = Xdm / self.Xsd\n",
    "        \n",
    "        r = y.copy()        \n",
    "        corrs = np.dot(Z.T, r)\n",
    "        acorrs = np.abs(corrs)\n",
    "        \n",
    "        activeSet = [np.argmax(corrs)]\n",
    "        inactiveSet = list(set(range(p)) - set(activeSet))\n",
    "        beta = np.zeros((X.shape[1]))\n",
    "        \n",
    "        betasList = [beta.copy()]\n",
    "        \n",
    "        while True:\n",
    "            Zr = Z[:,activeSet]           \n",
    "            Zi = Z[:,inactiveSet]\n",
    "            na = Zr.shape[1]\n",
    "            ni = Zi.shape[1]\n",
    "            \n",
    "            # 1) find OLS direction\n",
    "            acorrs_active = acorrs[activeSet]\n",
    "            #print(\"Active set absolute correlations: \" + str(acorrs_active.flatten()))\n",
    "            acorr_active = acorrs_active[0]\n",
    "            acorrs_inactive = acorrs[inactiveSet]\n",
    "            delta = np.dot(np.dot(np.linalg.inv(np.dot(Zr.T, Zr)), Zr.T), r)\n",
    "            \n",
    "            # 2) find when any other will reach same value of abs corr\n",
    "            corrs_inactive = corrs[inactiveSet]            \n",
    "            dcorrs_inactive = np.dot(Zi.T, np.dot(Zr, delta))            \n",
    "            \n",
    "            lambdaMin_inactive = np.zeros((ni)) + np.inf\n",
    "            \n",
    "            # it means the correlation keeps increasing, in this case it won't cross\n",
    "            increasing = dcorrs_inactive * corrs_inactive <= 0\n",
    "            lambdaMin_inactive[increasing] = \\\n",
    "                (acorr_active - acorrs_inactive[increasing]) / (np.abs(dcorrs_inactive[increasing]) + acorr_active)\n",
    "            \n",
    "            decreasing_cr = (dcorrs_inactive * corrs_inactive > 0) & (np.abs(dcorrs_inactive / corrs_inactive) > 1)\n",
    "            decreasing_ncr = (dcorrs_inactive * corrs_inactive > 0) & (np.abs(dcorrs_inactive / corrs_inactive) < 1)\n",
    "            \n",
    "            lambdaMin_inactive[decreasing_ncr] = \\\n",
    "                (acorrs_inactive[decreasing_ncr] - acorr_active) / (np.abs(dcorrs_inactive[decreasing_ncr]) - acorr_active)\n",
    "            lambdaMin_inactive[decreasing_cr] = \\\n",
    "                (acorrs_inactive[decreasing_cr] + acorr_active) / (np.abs(dcorrs_inactive[decreasing_cr]) + acorr_active)\n",
    "            \n",
    "            if(len(activeSet) < p):\n",
    "                inactiveIndex = np.argmin(lambdaMin_inactive)\n",
    "                lambdaNext = lambdaMin_inactive[inactiveIndex]\n",
    "            else:\n",
    "                lambdaNext = 1.0\n",
    "                \n",
    "            candidateBeta = beta.copy()\n",
    "            candidateBeta[activeSet] = beta[activeSet] + lambdaNext * delta\n",
    "                \n",
    "            # check if any coefficient crosses zero            \n",
    "            activeCrossing = ((candidateBeta * beta < 0))[activeSet]\n",
    "            crossLambdaActive = np.zeros((na)) + np.inf\n",
    "            crossLambdaActive[activeCrossing] = (beta[activeSet])[activeCrossing] / delta[activeCrossing]\n",
    "            firstCrossActiveIndex = np.argmin(crossLambdaActive)\n",
    "            \n",
    "            crossing = False\n",
    "            if crossLambdaActive[firstCrossActiveIndex] < lambdaNext: # found a crossing\n",
    "                print(\"Crossing detected\")\n",
    "                lambdaNext = crossLambdaActive[firstCrossActiveIndex]\n",
    "                crossPred = activeSet[firstCrossActiveIndex]\n",
    "                crossing = True   \n",
    "            \n",
    "            beta[activeSet] = beta[activeSet] + lambdaNext * delta\n",
    "            betasList.append(beta.copy())\n",
    "            \n",
    "            if(lambdaNext == 1.0):\n",
    "                break\n",
    "            \n",
    "            # updating correlations and residuals\n",
    "            r = r - lambdaNext * np.dot(Zr, delta)\n",
    "            corrs = np.dot(Z.T, r)\n",
    "            acorrs = np.abs(corrs)\n",
    "            \n",
    "            if crossing:\n",
    "                activeSet = list(set(activeSet) - {crossPred})\n",
    "            else:\n",
    "                activeSet.append(inactiveSet[inactiveIndex])\n",
    "                \n",
    "            inactiveSet = list(set(range(p)) - set(activeSet))\n",
    "            \n",
    "        self.betasList = [beta / self.Xsd.flatten() for beta in betasList]\n",
    "        \n",
    "        self.storeArcLengths()\n",
    "        \n",
    "    def storeArcLengths(self):\n",
    "        self.arcLengths = [0]\n",
    "        nb = len(self.betasList)\n",
    "        self.nNodes = nb\n",
    "        \n",
    "        for i in range(1, nb):\n",
    "            db = self.betasList[i] - self.betasList[i - 1]\n",
    "            self.arcLengths.append(self.arcLengths[i - 1] + np.linalg.norm(db, ord = 1))\n",
    "            #print(self.arcLengths[i] / np.linalg.norm(self.betasList[i], ord = 1))\n",
    "            \n",
    "        self.totalArcLength = self.arcLengths[nb - 1]\n",
    "        #self.arcLengths = [self.totalArcLength - l for l in self.arcLengths]\n",
    "        \n",
    "        #print(self.arcLengths)\n",
    "        #self.arcLengths = list(reversed(self.arcLengths))\n",
    "        #self.betasList = list(reversed(self.betasList))\n",
    "        \n",
    "    def getBeta(self, arcLength):\n",
    "        if arcLength >= self.totalArcLength:\n",
    "            return self.betasList[self.nNodes - 1]\n",
    "        lIndex = np.searchsorted(self.arcLengths, arcLength, side = 'right') - 1\n",
    "        dLength = arcLength - self.arcLengths[lIndex]\n",
    "        \n",
    "        return self.betasList[lIndex] + \\\n",
    "            (self.betasList[lIndex + 1] - self.betasList[lIndex]) * \\\n",
    "            dLength / np.linalg.norm(self.betasList[lIndex + 1] - self.betasList[lIndex], ord = 1)\n",
    "            \n",
    "    def getModel(self, fractionalArcLength):\n",
    "        return LASSO(self.Ym, np.expand_dims(self.getBeta(fractionalArcLength * self.totalArcLength), axis = 1))"
   ]
  },
  {
   "cell_type": "code",
   "execution_count": 53,
   "metadata": {
    "collapsed": true
   },
   "outputs": [],
   "source": [
    "NFolds = 10#X_train.shape[0]\n",
    "cvStats = lambda Y, Yhat: [Y.shape[0], np.average((Y - Yhat)*(Y - Yhat))]\n",
    "\n",
    "model = LASSO(fractionalArcLength = 0)\n",
    "\n",
    "stats = {}\n",
    "shrinkageFactors = np.linspace(0, 1, 10)\n",
    "for shr in shrinkageFactors:\n",
    "    # fix the lambda outside the model instead of dof-dependent lambda...\n",
    "    model.fractionalArcLength = shr\n",
    "    stats[shr] = CVStats(model, X_train, Y_train, NFolds, cvStats, permute = True, seed = 6)\n",
    "    \n",
    "cvErrors = [sum([x[1] * x[0] for x in value]) / X_train.shape[0] for key, value in stats.items()]\n",
    "cvStdevs = [np.sqrt(np.var([x[1] for x in value]) / NFolds) for key, value in stats.items()]"
   ]
  },
  {
   "cell_type": "code",
   "execution_count": 54,
   "metadata": {},
   "outputs": [
    {
     "data": {
      "image/png": "[encoded data removed]",
      "text/plain": [
       "<matplotlib.figure.Figure at 0x241ba6732b0>"
      ]
     },
     "metadata": {},
     "output_type": "display_data"
    }
   ],
   "source": [
    "figWidth = 4\n",
    "figHeight = 4\n",
    "fig = plt.figure(figsize=(figWidth,figHeight))\n",
    "\n",
    "plt.errorbar(shrinkageFactors, cvErrors, yerr = cvStdevs, fmt='--o', ecolor='g', elinewidth = 1, \\\n",
    "             capsize = 2)\n",
    "plt.grid(True)\n",
    "plt.xlabel(\"Subset size\")\n",
    "plt.ylabel(\"CV Error\")\n",
    "plt.show()"
   ]
  },
  {
   "cell_type": "code",
   "execution_count": 55,
   "metadata": {},
   "outputs": [
    {
     "name": "stdout",
     "output_type": "stream",
     "text": [
      "Parameter chosen by the 1-sd rule: 0.111111111111\n"
     ]
    }
   ],
   "source": [
    "oneSdIndex = np.argmax(np.array(cvErrors) - np.array(cvStdevs) <= min(cvErrors))\n",
    "oneSdPar = shrinkageFactors[oneSdIndex]\n",
    "print(\"Parameter chosen by the 1-sd rule: \" + str(oneSdPar))"
   ]
  },
  {
   "cell_type": "code",
   "execution_count": 56,
   "metadata": {
    "collapsed": true
   },
   "outputs": [],
   "source": [
    "# creating final model and assessing error\n",
    "model.fractionalArcLength = oneSdPar\n",
    "model.train(X_train, Y_train)\n",
    "testStats = RsStats(model, X_test, Y_test)\n",
    "model.testError = testStats[\"avg\"]\n",
    "model.testErrorStdev = testStats[\"stdev\"]\n",
    "tunedModels[\"Lasso\"] = model"
   ]
  },
  {
   "cell_type": "markdown",
   "metadata": {},
   "source": [
    "## PCR"
   ]
  },
  {
   "cell_type": "code",
   "execution_count": 57,
   "metadata": {
    "collapsed": true
   },
   "outputs": [],
   "source": [
    "class PCR:\n",
    "    def __init__(self, normalise, K):\n",
    "        self.normalise = True\n",
    "        self.K = K\n",
    "        \n",
    "    def train(self, X, Y):\n",
    "        self.Ym = np.expand_dims(np.average(Y, axis = 0), axis = 0)\n",
    "        self.Xm = np.expand_dims(np.average(X, axis = 0), axis = 0)\n",
    "        Xdm = X - self.Xm\n",
    "        \n",
    "        p = X.shape[1]\n",
    "        self.Xnorms = np.expand_dims(\\\n",
    "            np.sqrt(np.average(Xdm * Xdm, axis = 0)) if self.normalise else (1 + np.zeros((p))),\\\n",
    "            axis = 0)\n",
    "        \n",
    "        Z = Xdm / self.Xnorms\n",
    "        U, D, V = np.linalg.svd(Z)\n",
    "        U = U[:,0:p]\n",
    "        \n",
    "        Ucoeffs = np.dot(U.T, Y)\n",
    "        \n",
    "        # filter\n",
    "        Ucoeffs[K:p,:] = 0\n",
    "        \n",
    "        Zcoeffs = np.dot(V.T, np.dot(np.diag(1.0/D), Ucoeffs))\n",
    "        self.coeffs = Zcoeffs / self.Xnorms.T\n",
    "        \n",
    "    def predict(self, X):\n",
    "        return self.Ym + np.dot((X - self.Xm), self.coeffs)"
   ]
  },
  {
   "cell_type": "code",
   "execution_count": 58,
   "metadata": {
    "collapsed": true
   },
   "outputs": [],
   "source": [
    "NFolds = 10#X_train.shape[0]\n",
    "cvStats = lambda Y, Yhat: [Y.shape[0], np.average((Y - Yhat)*(Y - Yhat))]\n",
    "\n",
    "model = PCR(normalise = False, K = 0)\n",
    "\n",
    "stats = {}\n",
    "Ks = list(range(9))\n",
    "for K in Ks:\n",
    "    # fix the lambda outside the model instead of dof-dependent lambda...\n",
    "    model.K = K\n",
    "    stats[K] = CVStats(model, X_train, Y_train, NFolds, cvStats, permute = True, seed = 6)\n",
    "    \n",
    "cvErrors = [sum([x[1] * x[0] for x in value]) / X_train.shape[0] for key, value in stats.items()]\n",
    "cvStdevs = [np.sqrt(np.var([x[1] for x in value]) / NFolds) for key, value in stats.items()]"
   ]
  },
  {
   "cell_type": "code",
   "execution_count": 59,
   "metadata": {},
   "outputs": [
    {
     "data": {
      "image/png": "[encoded data removed]",
      "text/plain": [
       "<matplotlib.figure.Figure at 0x241ba754160>"
      ]
     },
     "metadata": {},
     "output_type": "display_data"
    }
   ],
   "source": [
    "figWidth = 4\n",
    "figHeight = 4\n",
    "fig = plt.figure(figsize=(figWidth,figHeight))\n",
    "\n",
    "plt.errorbar(Ks, cvErrors, yerr = cvStdevs, fmt='--o', ecolor='g', elinewidth = 1, \\\n",
    "             capsize = 2)\n",
    "plt.grid(True)\n",
    "plt.xlabel(\"Subset size\")\n",
    "plt.ylabel(\"CV Error\")\n",
    "plt.show()"
   ]
  },
  {
   "cell_type": "code",
   "execution_count": 60,
   "metadata": {},
   "outputs": [
    {
     "name": "stdout",
     "output_type": "stream",
     "text": [
      "Parameter chosen by the 1-sd rule: 7\n"
     ]
    }
   ],
   "source": [
    "oneSdIndex = np.argmax(np.array(cvErrors) - np.array(cvStdevs) <= min(cvErrors))\n",
    "oneSdPar = Ks[oneSdIndex]\n",
    "print(\"Parameter chosen by the 1-sd rule: \" + str(oneSdPar))"
   ]
  },
  {
   "cell_type": "code",
   "execution_count": 61,
   "metadata": {
    "collapsed": true
   },
   "outputs": [],
   "source": [
    "# creating final model and assessing error\n",
    "model.K = oneSdPar\n",
    "model.train(X_train, Y_train)\n",
    "testStats = RsStats(model, X_test, Y_test)\n",
    "model.testError = testStats[\"avg\"]\n",
    "model.testErrorStdev = testStats[\"stdev\"]\n",
    "tunedModels[\"PCR\"] = model"
   ]
  },
  {
   "cell_type": "markdown",
   "metadata": {},
   "source": [
    "## PLS"
   ]
  },
  {
   "cell_type": "code",
   "execution_count": 62,
   "metadata": {
    "collapsed": true
   },
   "outputs": [],
   "source": [
    "class PLS:\n",
    "    def __init__(self, normalise, K):\n",
    "        self.K = K\n",
    "        self.normalise = normalise\n",
    "        \n",
    "    def train(self, X, Y):\n",
    "        p = X.shape[1]\n",
    "        self.Ym = np.expand_dims(np.average(Y, axis = 0), axis = 0)\n",
    "        self.Xm = np.expand_dims(np.average(X, axis = 0), axis = 0)\n",
    "        Xdm = X - self.Xm\n",
    "        self.Xnorms = np.expand_dims(\\\n",
    "            np.sqrt(np.average(Xdm * Xdm, axis = 0)) if self.normalise else (1 + np.zeros((p))),\\\n",
    "            axis = 0) #(1, p)\n",
    "        Z = Xdm / self.Xnorms\n",
    "        \n",
    "        self.linCombs = np.zeros((p, K)) # coefficients of linear combinations of normalised variables\n",
    "        A = np.identity(p) # Xm = A * X\n",
    "        Zm = Z\n",
    "        \n",
    "        normCoeffs = np.zeros((p, 1))\n",
    "        self.vs = []\n",
    "        \n",
    "        for k in range(self.K):\n",
    "            mCoeffs = np.dot(Zm.T, Y)\n",
    "            self.linCombs[:,k:k + 1] = np.dot(A, mCoeffs)\n",
    "            v = np.dot(Zm, mCoeffs)\n",
    "            self.vs.append(v)\n",
    "            \n",
    "            # coefficients of normalised variables\n",
    "            plsCoeff = np.dot(v.T, Y) / np.dot(v.T, v)\n",
    "            normCoeffs = normCoeffs + plsCoeff * self.linCombs[:,k:k + 1]\n",
    "            \n",
    "            # residualise and update matrix transformation\n",
    "            A = A - np.dot(A, np.dot(mCoeffs, np.dot(v.T, Z))/ np.dot(v.T, v)) \n",
    "            Zm = np.dot(Z, A)\n",
    "            \n",
    "        self.coeffs = normCoeffs / self.Xnorms.T\n",
    "        \n",
    "    def predict(self, X):\n",
    "        return self.Ym + np.dot(X - self.Xm, self.coeffs)"
   ]
  },
  {
   "cell_type": "code",
   "execution_count": 30,
   "metadata": {
    "collapsed": true
   },
   "outputs": [],
   "source": [
    "model = PLS(normalise = True, K = 1)\n",
    "model.train(X_train, Y_train)"
   ]
  },
  {
   "cell_type": "code",
   "execution_count": 31,
   "metadata": {
    "collapsed": true
   },
   "outputs": [],
   "source": [
    "NFolds = 10\n",
    "cvStats = lambda Y, Yhat: [Y.shape[0], np.average((Y - Yhat)*(Y - Yhat))]\n",
    "\n",
    "model = PLS(normalise = True, K = 0)\n",
    "\n",
    "stats = {}\n",
    "Ks = list(range(9))\n",
    "for K in Ks:\n",
    "    # fix the lambda outside the model instead of dof-dependent lambda...\n",
    "    model.K = K\n",
    "    stats[K] = CVStats(model, X_train, Y_train, NFolds, cvStats, permute = True, seed = 0)\n",
    "    \n",
    "cvErrors = [sum([x[1] * x[0] for x in value]) / X_train.shape[0] for key, value in stats.items()]\n",
    "cvStdevs = [np.sqrt(np.var([x[1] for x in value]) / NFolds) for key, value in stats.items()]"
   ]
  },
  {
   "cell_type": "code",
   "execution_count": 32,
   "metadata": {},
   "outputs": [
    {
     "data": {
      "image/png": "[encoded data removed]",
      "text/plain": [
       "<matplotlib.figure.Figure at 0x241ba5eeef0>"
      ]
     },
     "metadata": {},
     "output_type": "display_data"
    }
   ],
   "source": [
    "figWidth = 4\n",
    "figHeight = 4\n",
    "fig = plt.figure(figsize=(figWidth,figHeight))\n",
    "\n",
    "plt.errorbar(Ks, cvErrors, yerr = cvStdevs, fmt='--o', ecolor='g', elinewidth = 1, \\\n",
    "             capsize = 2)\n",
    "plt.grid(True)\n",
    "plt.xlabel(\"Subset size\")\n",
    "plt.ylabel(\"CV Error\")\n",
    "plt.show()"
   ]
  },
  {
   "cell_type": "code",
   "execution_count": 33,
   "metadata": {},
   "outputs": [
    {
     "name": "stdout",
     "output_type": "stream",
     "text": [
      "Parameter chosen by the 1-sd rule: 1\n"
     ]
    }
   ],
   "source": [
    "oneSdIndex = np.argmax(np.array(cvErrors) - np.array(cvStdevs) <= min(cvErrors))\n",
    "oneSdPar = Ks[oneSdIndex]\n",
    "print(\"Parameter chosen by the 1-sd rule: \" + str(oneSdPar))"
   ]
  },
  {
   "cell_type": "code",
   "execution_count": 34,
   "metadata": {
    "collapsed": true
   },
   "outputs": [],
   "source": [
    "# creating final model and assessing error\n",
    "model.K = oneSdPar\n",
    "model.train(X_train, Y_train)\n",
    "testStats = RsStats(model, X_test, Y_test)\n",
    "model.testError = testStats[\"avg\"]\n",
    "model.testErrorStdev = testStats[\"stdev\"]\n",
    "tunedModels[\"PLS\"] = model"
   ]
  },
  {
   "cell_type": "code",
   "execution_count": 193,
   "metadata": {},
   "outputs": [
    {
     "data": {
      "text/plain": [
       "7.3890560989306504"
      ]
     },
     "execution_count": 193,
     "metadata": {},
     "output_type": "execute_result"
    }
   ],
   "source": [
    "np.exp(int(2))"
   ]
  },
  {
   "cell_type": "code",
   "execution_count": null,
   "metadata": {
    "collapsed": true
   },
   "outputs": [],
   "source": []
  }
 ],
 "metadata": {
  "kernelspec": {
   "display_name": "Python [default]",
   "language": "python",
   "name": "python3"
  },
  "language_info": {
   "codemirror_mode": {
    "name": "ipython",
    "version": 3
   },
   "file_extension": ".py",
   "mimetype": "text/x-python",
   "name": "python",
   "nbconvert_exporter": "python",
   "pygments_lexer": "ipython3",
   "version": "3.6.3"
  }
 },
 "nbformat": 4,
 "nbformat_minor": 2
}

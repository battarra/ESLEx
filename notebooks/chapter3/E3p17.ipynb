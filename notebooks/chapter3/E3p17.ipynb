{
 "cells": [
  {
   "cell_type": "markdown",
   "metadata": {},
   "source": [
    "# *Elements of Statistical Learning* - Exercise 3.17"
   ]
  },
  {
   "cell_type": "markdown",
   "metadata": {},
   "source": [
    "> **Author**: Lorenzo BATTARRA\n",
    ">\n",
    "> **Last reviewed**: 2020/01/02"
   ]
  },
  {
   "cell_type": "markdown",
   "metadata": {},
   "source": [
    "## 0. Basic imports"
   ]
  },
  {
   "cell_type": "code",
   "execution_count": 50,
   "metadata": {},
   "outputs": [],
   "source": [
    "import pandas as pd\n",
    "import numpy as np\n",
    "import matplotlib.pyplot as plt\n",
    "import matplotlib.gridspec as gridspec\n",
    "from tqdm import tqdm"
   ]
  },
  {
   "cell_type": "code",
   "execution_count": 51,
   "metadata": {},
   "outputs": [],
   "source": [
    "# matplotlib styling\n",
    "\n",
    "#plt.style.available[:20]\n",
    "plt.style.use('ggplot')"
   ]
  },
  {
   "cell_type": "code",
   "execution_count": 52,
   "metadata": {},
   "outputs": [],
   "source": [
    "#Add `pyesl` path\n",
    "\n",
    "import os, sys\n",
    "sys.path.append(os.path.dirname(os.path.dirname(os.getcwd())))\n",
    "\n",
    "from pyesl.esl_helpers import plt_style"
   ]
  },
  {
   "cell_type": "code",
   "execution_count": 53,
   "metadata": {},
   "outputs": [],
   "source": [
    "data_dir = '../../Data/'"
   ]
  },
  {
   "cell_type": "markdown",
   "metadata": {},
   "source": [
    "## 1. Reproducing results for the `prostate` dataset"
   ]
  },
  {
   "cell_type": "markdown",
   "metadata": {},
   "source": [
    "> First, we validate the code by reproducing Fig 3.7 and Table 3.3"
   ]
  },
  {
   "cell_type": "markdown",
   "metadata": {},
   "source": [
    "### 1.1 Loading data"
   ]
  },
  {
   "cell_type": "code",
   "execution_count": 54,
   "metadata": {},
   "outputs": [
    {
     "data": {
      "text/html": [
       "<div>\n",
       "<style scoped>\n",
       "    .dataframe tbody tr th:only-of-type {\n",
       "        vertical-align: middle;\n",
       "    }\n",
       "\n",
       "    .dataframe tbody tr th {\n",
       "        vertical-align: top;\n",
       "    }\n",
       "\n",
       "    .dataframe thead th {\n",
       "        text-align: right;\n",
       "    }\n",
       "</style>\n",
       "<table border=\"1\" class=\"dataframe\">\n",
       "  <thead>\n",
       "    <tr style=\"text-align: right;\">\n",
       "      <th></th>\n",
       "      <th>lcavol</th>\n",
       "      <th>lweight</th>\n",
       "      <th>age</th>\n",
       "      <th>lbph</th>\n",
       "      <th>svi</th>\n",
       "      <th>lcp</th>\n",
       "      <th>gleason</th>\n",
       "      <th>pgg45</th>\n",
       "      <th>lpsa</th>\n",
       "      <th>train</th>\n",
       "    </tr>\n",
       "  </thead>\n",
       "  <tbody>\n",
       "    <tr>\n",
       "      <th>0</th>\n",
       "      <td>-0.579818</td>\n",
       "      <td>2.769459</td>\n",
       "      <td>50</td>\n",
       "      <td>-1.386294</td>\n",
       "      <td>0</td>\n",
       "      <td>-1.386294</td>\n",
       "      <td>6</td>\n",
       "      <td>0</td>\n",
       "      <td>-0.430783</td>\n",
       "      <td>T</td>\n",
       "    </tr>\n",
       "    <tr>\n",
       "      <th>1</th>\n",
       "      <td>-0.994252</td>\n",
       "      <td>3.319626</td>\n",
       "      <td>58</td>\n",
       "      <td>-1.386294</td>\n",
       "      <td>0</td>\n",
       "      <td>-1.386294</td>\n",
       "      <td>6</td>\n",
       "      <td>0</td>\n",
       "      <td>-0.162519</td>\n",
       "      <td>T</td>\n",
       "    </tr>\n",
       "    <tr>\n",
       "      <th>2</th>\n",
       "      <td>-0.510826</td>\n",
       "      <td>2.691243</td>\n",
       "      <td>74</td>\n",
       "      <td>-1.386294</td>\n",
       "      <td>0</td>\n",
       "      <td>-1.386294</td>\n",
       "      <td>7</td>\n",
       "      <td>20</td>\n",
       "      <td>-0.162519</td>\n",
       "      <td>T</td>\n",
       "    </tr>\n",
       "    <tr>\n",
       "      <th>3</th>\n",
       "      <td>-1.203973</td>\n",
       "      <td>3.282789</td>\n",
       "      <td>58</td>\n",
       "      <td>-1.386294</td>\n",
       "      <td>0</td>\n",
       "      <td>-1.386294</td>\n",
       "      <td>6</td>\n",
       "      <td>0</td>\n",
       "      <td>-0.162519</td>\n",
       "      <td>T</td>\n",
       "    </tr>\n",
       "    <tr>\n",
       "      <th>4</th>\n",
       "      <td>0.751416</td>\n",
       "      <td>3.432373</td>\n",
       "      <td>62</td>\n",
       "      <td>-1.386294</td>\n",
       "      <td>0</td>\n",
       "      <td>-1.386294</td>\n",
       "      <td>6</td>\n",
       "      <td>0</td>\n",
       "      <td>0.371564</td>\n",
       "      <td>T</td>\n",
       "    </tr>\n",
       "  </tbody>\n",
       "</table>\n",
       "</div>"
      ],
      "text/plain": [
       "     lcavol   lweight  age      lbph  svi       lcp  gleason  pgg45      lpsa  \\\n",
       "0 -0.579818  2.769459   50 -1.386294    0 -1.386294        6      0 -0.430783   \n",
       "1 -0.994252  3.319626   58 -1.386294    0 -1.386294        6      0 -0.162519   \n",
       "2 -0.510826  2.691243   74 -1.386294    0 -1.386294        7     20 -0.162519   \n",
       "3 -1.203973  3.282789   58 -1.386294    0 -1.386294        6      0 -0.162519   \n",
       "4  0.751416  3.432373   62 -1.386294    0 -1.386294        6      0  0.371564   \n",
       "\n",
       "  train  \n",
       "0     T  \n",
       "1     T  \n",
       "2     T  \n",
       "3     T  \n",
       "4     T  "
      ]
     },
     "execution_count": 54,
     "metadata": {},
     "output_type": "execute_result"
    }
   ],
   "source": [
    "data = pd.read_csv(data_dir + 'prostate.data', delimiter = '\\t')\n",
    "\n",
    "# dropping index column found in data file\n",
    "data = data.drop(data.columns[0], axis = 1)\n",
    "\n",
    "data.head(5)"
   ]
  },
  {
   "cell_type": "code",
   "execution_count": 55,
   "metadata": {},
   "outputs": [],
   "source": [
    "data_train  = data[data.train == 'T'].drop('train', axis = 1)\n",
    "data_test = data[data.train == 'F'].drop('train', axis = 1)\n",
    "\n",
    "X_train = data_train.drop('lpsa', axis = 1).values\n",
    "Y_train = data_train[['lpsa']].values\n",
    "\n",
    "X_test = data_test.drop('lpsa', axis = 1).values\n",
    "Y_test = data_test[['lpsa']].values\n",
    "\n",
    "N, p = X_train.shape"
   ]
  },
  {
   "cell_type": "markdown",
   "metadata": {},
   "source": [
    "### 1.2 Importing models and defining constants"
   ]
  },
  {
   "cell_type": "code",
   "execution_count": 56,
   "metadata": {},
   "outputs": [],
   "source": [
    "from pyesl.ch3 import RidgeRegressor, BestSubsetRegression, LassoRegressor, PcrRegressor\n",
    "\n",
    "from sklearn.dummy import DummyRegressor\n",
    "from sklearn.linear_model import LinearRegression\n",
    "from sklearn.model_selection import cross_val_score, KFold, train_test_split\n",
    "from sklearn.cross_decomposition import PLSRegression\n",
    "\n",
    "from sklearn.metrics import mean_squared_error, make_scorer\n",
    "from sklearn.preprocessing import StandardScaler\n",
    "from sklearn.pipeline import Pipeline"
   ]
  },
  {
   "cell_type": "code",
   "execution_count": 57,
   "metadata": {},
   "outputs": [],
   "source": [
    "# number of cross validation folds\n",
    "n_cv_folds = 10\n",
    "cv_seed = 0"
   ]
  },
  {
   "cell_type": "code",
   "execution_count": 58,
   "metadata": {},
   "outputs": [],
   "source": [
    "# routine to reproduce Fig 3.7\n",
    "\n",
    "def cv_error_stats(h_pars, get_model, n_cv_folds, cv_seed, X_train, Y_train):\n",
    "    \"\"\" Returns the CV error statistics for a bunch of models with a single varying hyperparameter.\"\"\"\n",
    "    \n",
    "    cv = KFold(n_splits=n_cv_folds, random_state=cv_seed, shuffle=True)\n",
    "    \n",
    "    out_of_fold_scores = np.zeros((len(h_pars), n_cv_folds))\n",
    "\n",
    "    for i_par, h_par in enumerate(h_pars):\n",
    "        out_of_fold_scores[i_par, :] = cross_val_score(get_model(h_par), X_train, Y_train, \n",
    "                                         scoring='neg_mean_squared_error', cv=cv)\n",
    "    \n",
    "    error_means = - np.average(out_of_fold_scores, axis=1)\n",
    "    error_stds = np.std(out_of_fold_scores, axis = 1) / np.sqrt(n_cv_folds)\n",
    "    \n",
    "    return error_means, error_stds"
   ]
  },
  {
   "cell_type": "markdown",
   "metadata": {},
   "source": [
    "### 1.3 List of models"
   ]
  },
  {
   "cell_type": "code",
   "execution_count": 59,
   "metadata": {},
   "outputs": [],
   "source": [
    "def get_ols(x):\n",
    "    return Pipeline([('norm', StandardScaler()), ('regression', LinearRegression(fit_intercept=True))])\n",
    "\n",
    "def get_best_subset(k):\n",
    "    if k == 0:\n",
    "        return DummyRegressor()\n",
    "    \n",
    "    return Pipeline([('norm', StandardScaler()), ('regression', BestSubsetRegression(subset_size=k))])\n",
    "    \n",
    "def get_ridge(n_dofs):\n",
    "    if n_dofs == 0:\n",
    "        return DummyRegressor()\n",
    "    \n",
    "    return Pipeline([('norm', StandardScaler()), ('regression', RidgeRegressor(n_dofs=n_dofs))])\n",
    "\n",
    "def get_lasso(shrinkage):\n",
    "    if shrinkage == 0:\n",
    "        return DummyRegressor()\n",
    "    \n",
    "    if shrinkage == 1:\n",
    "        return LinearRegression()\n",
    "    \n",
    "    return Pipeline([('norm', StandardScaler()), ('regression', LassoRegressor(shrinkage=shrinkage))])\n",
    "\n",
    "def get_pcr(n_components):\n",
    "    if n_components == 0:\n",
    "        return DummyRegressor()\n",
    "    \n",
    "    return Pipeline([('norm', StandardScaler()), ('regression', PcrRegressor(n_components=n_components))])\n",
    "\n",
    "def get_pls(n_components):\n",
    "    if n_components == 0:\n",
    "        return DummyRegressor()   \n",
    "    \n",
    "    return Pipeline([('regression', PLSRegression(n_components=n_components, scale=True))])"
   ]
  },
  {
   "cell_type": "code",
   "execution_count": 60,
   "metadata": {},
   "outputs": [],
   "source": [
    "all_model_families = [\n",
    "    {'model_name': 'OLS', 'h_pars': [None], 'model_factory': get_ols},\n",
    "    {'model_name': 'Best subset', 'h_pars': np.arange(p + 1), 'hpar': 'subset size', 'model_factory': get_best_subset},\n",
    "    {'model_name': 'Ridge', 'h_pars': np.linspace(0, p, p + 1), 'hpar': '$n_{dof}$', 'model_factory': get_ridge},\n",
    "    {'model_name': 'LASSO', 'h_pars': np.linspace(0, 1, 9), 'hpar': 'shrinkage factor', 'model_factory': get_lasso},\n",
    "    {'model_name': 'PCR', 'h_pars': np.arange(p + 1), 'hpar': 'number of directions', 'model_factory': get_pcr},\n",
    "    {'model_name': 'PLS', 'h_pars': np.arange(p + 1), 'hpar': 'number of directions', 'model_factory': get_pls}\n",
    "]"
   ]
  },
  {
   "cell_type": "markdown",
   "metadata": {},
   "source": [
    "### 1.4. Hyperparameter tuning using CV"
   ]
  },
  {
   "cell_type": "code",
   "execution_count": 61,
   "metadata": {},
   "outputs": [
    {
     "name": "stderr",
     "output_type": "stream",
     "text": [
      "100%|██████████| 6/6 [00:02<00:00,  3.48it/s]\n"
     ]
    }
   ],
   "source": [
    "for model_family in tqdm(all_model_families):\n",
    "    \n",
    "    error_means, error_stds = cv_error_stats(model_family['h_pars'], model_family['model_factory'],\n",
    "                                         n_cv_folds=n_cv_folds, cv_seed=cv_seed, \n",
    "                                         X_train=X_train, Y_train=Y_train)\n",
    "    \n",
    "    one_sd_index = np.argmax(np.array(error_means) - np.array(error_stds) <= min(error_means))\n",
    "    one_sd_par = model_family['h_pars'][one_sd_index]\n",
    "    \n",
    "    model_family['error_means'] = error_means\n",
    "    model_family['error_stds'] = error_stds\n",
    "    model_family['best_par'] = one_sd_par\n",
    "    model_family['best_model'] = model_family['model_factory'](one_sd_par)\n",
    "    model_family['best_model'].fit(X_train, Y_train)"
   ]
  },
  {
   "cell_type": "markdown",
   "metadata": {},
   "source": [
    "### 1.5. A look at results"
   ]
  },
  {
   "cell_type": "code",
   "execution_count": 83,
   "metadata": {},
   "outputs": [
    {
     "data": {
      "image/png": "[encoded data removed]",
      "text/plain": [
       "<Figure size 648x432 with 5 Axes>"
      ]
     },
     "metadata": {},
     "output_type": "display_data"
    }
   ],
   "source": [
    "n_cols = 3\n",
    "\n",
    "gs = gridspec.GridSpec(nrows=2, ncols=3)\n",
    "gs.update(wspace=0.5, hspace=0.7)\n",
    "\n",
    "fig = plt.figure(figsize=(9, 6))\n",
    "\n",
    "for i, mod in enumerate(all_model_families[1:]):\n",
    "    \n",
    "    ax = fig.add_subplot(gs[i // 3, i%3], )\n",
    "    ax.errorbar(mod['h_pars'], mod['error_means'], yerr = mod['error_stds'], fmt='--o', elinewidth = 1, \\\n",
    "             capsize = 2, **plt_style('dashed', 'thin', 'color1'),\n",
    "             label=mod['model_name'])\n",
    "\n",
    "    ax.plot([mod['best_par'], mod['best_par']], [0, 2], **plt_style('thin', 'color2'))\n",
    "    ax.set_ylim((0.0, 2))\n",
    "    ax.set_xlabel(mod['hpar'])\n",
    "    ax.set_ylabel(\"CV Error\")\n",
    "    ax.set_title(mod['model_name'])\n",
    "    \n",
    "fig.savefig('../../notes/Figures/E3p17_A.pdf', bbox_inches='tight', pad_inches = 0)"
   ]
  },
  {
   "cell_type": "markdown",
   "metadata": {},
   "source": [
    "> Slight discrepancies with Figure 3.7. These might come from CV - we don't know how ESL folded the data.\n",
    "\n",
    "> Overriding with hyperparameter values found in ELS:"
   ]
  },
  {
   "cell_type": "code",
   "execution_count": 63,
   "metadata": {},
   "outputs": [],
   "source": [
    "all_model_families[1]['best_par'] = 2\n",
    "all_model_families[2]['best_par'] = 5\n",
    "all_model_families[4]['best_par'] = 7\n",
    "all_model_families[5]['best_par'] = 2\n",
    "\n",
    "for model_family in all_model_families:\n",
    "    model_family['best_model'] = model_family['model_factory'](model_family['best_par'])\n",
    "    model_family['best_model'].fit(X_train, Y_train)"
   ]
  },
  {
   "cell_type": "markdown",
   "metadata": {
    "collapsed": true
   },
   "source": [
    "### 1.6. Results table"
   ]
  },
  {
   "cell_type": "code",
   "execution_count": 64,
   "metadata": {},
   "outputs": [],
   "source": [
    "def model_features(mod, include_coefficients):\n",
    "    \n",
    "    scaled_mod = mod['regression']\n",
    "    if isinstance(scaled_mod, LinearRegression):\n",
    "        coeffs = scaled_mod.coef_[0, :]\n",
    "        intercept = scaled_mod.intercept_[0]\n",
    "    elif isinstance(scaled_mod, PLSRegression):\n",
    "        coeffs = scaled_mod.coef_[:, 0]\n",
    "        intercept = scaled_mod.y_mean_[0]\n",
    "    else:\n",
    "        coeffs = scaled_mod.coeffs[0, :]\n",
    "        intercept = scaled_mod.intercept[0]\n",
    "    \n",
    "    test_errors = np.power(mod.predict(X_test) - Y_test, 2)\n",
    "    test_error = np.average(test_errors)\n",
    "    test_error_std = np.std(test_errors) / np.sqrt(X_test.shape[0] - 1)\n",
    "    \n",
    "    features = []\n",
    "    if include_coefficients:\n",
    "        features += [\"{0:.3f}\".format(intercept)] + [\"\" if coeff == 0 else \"{0:.3f}\".format(coeff) for coeff in coeffs]\n",
    "        \n",
    "    return features + [\"{0:.3f}\".format(test_error), \"{0:.3f}\".format(test_error_std)]\n",
    "\n",
    "def models_table(all_model_families, include_coefficients):\n",
    "    \n",
    "    features = []\n",
    "    if include_coefficients:\n",
    "        features += ['Intercept'] + list(data_train.columns)[:-1]\n",
    "    features += ['Test Error', 'Test Error Std']\n",
    "    \n",
    "    models_df = pd.DataFrame(columns=features)\n",
    "    \n",
    "    for model_family in all_model_families:\n",
    "        mod = model_family['best_model']\n",
    "        models_df.loc[model_family['model_name']] = model_features(mod, include_coefficients)\n",
    "        \n",
    "    return models_df.transpose()"
   ]
  },
  {
   "cell_type": "code",
   "execution_count": 84,
   "metadata": {},
   "outputs": [
    {
     "data": {
      "text/html": [
       "<div>\n",
       "<style scoped>\n",
       "    .dataframe tbody tr th:only-of-type {\n",
       "        vertical-align: middle;\n",
       "    }\n",
       "\n",
       "    .dataframe tbody tr th {\n",
       "        vertical-align: top;\n",
       "    }\n",
       "\n",
       "    .dataframe thead th {\n",
       "        text-align: right;\n",
       "    }\n",
       "</style>\n",
       "<table border=\"1\" class=\"dataframe\">\n",
       "  <thead>\n",
       "    <tr style=\"text-align: right;\">\n",
       "      <th></th>\n",
       "      <th>OLS</th>\n",
       "      <th>Best subset</th>\n",
       "      <th>Ridge</th>\n",
       "      <th>LASSO</th>\n",
       "      <th>PCR</th>\n",
       "      <th>PLS</th>\n",
       "    </tr>\n",
       "  </thead>\n",
       "  <tbody>\n",
       "    <tr>\n",
       "      <th>Intercept</th>\n",
       "      <td>2.452</td>\n",
       "      <td>2.452</td>\n",
       "      <td>2.452</td>\n",
       "      <td>2.452</td>\n",
       "      <td>2.452</td>\n",
       "      <td>2.452</td>\n",
       "    </tr>\n",
       "    <tr>\n",
       "      <th>lcavol</th>\n",
       "      <td>0.711</td>\n",
       "      <td>0.774</td>\n",
       "      <td>0.433</td>\n",
       "      <td>0.558</td>\n",
       "      <td>0.566</td>\n",
       "      <td>0.436</td>\n",
       "    </tr>\n",
       "    <tr>\n",
       "      <th>lweight</th>\n",
       "      <td>0.290</td>\n",
       "      <td>0.349</td>\n",
       "      <td>0.252</td>\n",
       "      <td>0.187</td>\n",
       "      <td>0.321</td>\n",
       "      <td>0.360</td>\n",
       "    </tr>\n",
       "    <tr>\n",
       "      <th>age</th>\n",
       "      <td>-0.141</td>\n",
       "      <td></td>\n",
       "      <td>-0.046</td>\n",
       "      <td></td>\n",
       "      <td>-0.153</td>\n",
       "      <td>-0.021</td>\n",
       "    </tr>\n",
       "    <tr>\n",
       "      <th>lbph</th>\n",
       "      <td>0.210</td>\n",
       "      <td></td>\n",
       "      <td>0.168</td>\n",
       "      <td>0.002</td>\n",
       "      <td>0.214</td>\n",
       "      <td>0.243</td>\n",
       "    </tr>\n",
       "    <tr>\n",
       "      <th>svi</th>\n",
       "      <td>0.307</td>\n",
       "      <td></td>\n",
       "      <td>0.234</td>\n",
       "      <td>0.094</td>\n",
       "      <td>0.320</td>\n",
       "      <td>0.259</td>\n",
       "    </tr>\n",
       "    <tr>\n",
       "      <th>lcp</th>\n",
       "      <td>-0.287</td>\n",
       "      <td></td>\n",
       "      <td>0.003</td>\n",
       "      <td></td>\n",
       "      <td>-0.050</td>\n",
       "      <td>0.086</td>\n",
       "    </tr>\n",
       "    <tr>\n",
       "      <th>gleason</th>\n",
       "      <td>-0.021</td>\n",
       "      <td></td>\n",
       "      <td>0.042</td>\n",
       "      <td></td>\n",
       "      <td>0.227</td>\n",
       "      <td>0.006</td>\n",
       "    </tr>\n",
       "    <tr>\n",
       "      <th>pgg45</th>\n",
       "      <td>0.275</td>\n",
       "      <td></td>\n",
       "      <td>0.134</td>\n",
       "      <td></td>\n",
       "      <td>-0.063</td>\n",
       "      <td>0.084</td>\n",
       "    </tr>\n",
       "    <tr>\n",
       "      <th>Test Error</th>\n",
       "      <td>0.521</td>\n",
       "      <td>0.492</td>\n",
       "      <td>0.492</td>\n",
       "      <td>0.479</td>\n",
       "      <td>0.448</td>\n",
       "      <td>0.536</td>\n",
       "    </tr>\n",
       "    <tr>\n",
       "      <th>Test Error Std</th>\n",
       "      <td>0.179</td>\n",
       "      <td>0.143</td>\n",
       "      <td>0.162</td>\n",
       "      <td>0.164</td>\n",
       "      <td>0.104</td>\n",
       "      <td>0.149</td>\n",
       "    </tr>\n",
       "  </tbody>\n",
       "</table>\n",
       "</div>"
      ],
      "text/plain": [
       "                   OLS Best subset   Ridge  LASSO     PCR     PLS\n",
       "Intercept        2.452       2.452   2.452  2.452   2.452   2.452\n",
       "lcavol           0.711       0.774   0.433  0.558   0.566   0.436\n",
       "lweight          0.290       0.349   0.252  0.187   0.321   0.360\n",
       "age             -0.141              -0.046         -0.153  -0.021\n",
       "lbph             0.210               0.168  0.002   0.214   0.243\n",
       "svi              0.307               0.234  0.094   0.320   0.259\n",
       "lcp             -0.287               0.003         -0.050   0.086\n",
       "gleason         -0.021               0.042          0.227   0.006\n",
       "pgg45            0.275               0.134         -0.063   0.084\n",
       "Test Error       0.521       0.492   0.492  0.479   0.448   0.536\n",
       "Test Error Std   0.179       0.143   0.162  0.164   0.104   0.149"
      ]
     },
     "execution_count": 84,
     "metadata": {},
     "output_type": "execute_result"
    }
   ],
   "source": [
    "models_table(all_model_families, include_coefficients=True)"
   ]
  },
  {
   "cell_type": "markdown",
   "metadata": {},
   "source": [
    "> I'm not quite sure where the numerical discrepancies in the coefficients come from - the coefficients in the table above are\n",
    "> obtained by fitting over the whole training set, after demeaning and normalization\n",
    "> of predictors.\n",
    "\n",
    "> As for the PLS test error, I have double checked with an implementation from scratch, finding the same results."
   ]
  },
  {
   "cell_type": "markdown",
   "metadata": {},
   "source": [
    "## 2. `spam` dataset"
   ]
  },
  {
   "cell_type": "markdown",
   "metadata": {},
   "source": [
    "### 2.1 Loading data"
   ]
  },
  {
   "cell_type": "code",
   "execution_count": 85,
   "metadata": {},
   "outputs": [
    {
     "data": {
      "text/plain": [
       "'../../Data/spam.traintest'"
      ]
     },
     "execution_count": 85,
     "metadata": {},
     "output_type": "execute_result"
    }
   ],
   "source": [
    "data_dir + 'spam.traintest'"
   ]
  },
  {
   "cell_type": "code",
   "execution_count": 86,
   "metadata": {},
   "outputs": [
    {
     "data": {
      "text/html": [
       "<div>\n",
       "<style scoped>\n",
       "    .dataframe tbody tr th:only-of-type {\n",
       "        vertical-align: middle;\n",
       "    }\n",
       "\n",
       "    .dataframe tbody tr th {\n",
       "        vertical-align: top;\n",
       "    }\n",
       "\n",
       "    .dataframe thead th {\n",
       "        text-align: right;\n",
       "    }\n",
       "</style>\n",
       "<table border=\"1\" class=\"dataframe\">\n",
       "  <thead>\n",
       "    <tr style=\"text-align: right;\">\n",
       "      <th></th>\n",
       "      <th>0</th>\n",
       "      <th>1</th>\n",
       "      <th>2</th>\n",
       "      <th>3</th>\n",
       "      <th>4</th>\n",
       "      <th>5</th>\n",
       "      <th>6</th>\n",
       "      <th>7</th>\n",
       "      <th>8</th>\n",
       "      <th>9</th>\n",
       "      <th>...</th>\n",
       "      <th>48</th>\n",
       "      <th>49</th>\n",
       "      <th>50</th>\n",
       "      <th>51</th>\n",
       "      <th>52</th>\n",
       "      <th>53</th>\n",
       "      <th>54</th>\n",
       "      <th>55</th>\n",
       "      <th>56</th>\n",
       "      <th>57</th>\n",
       "    </tr>\n",
       "  </thead>\n",
       "  <tbody>\n",
       "    <tr>\n",
       "      <th>0</th>\n",
       "      <td>0.00</td>\n",
       "      <td>0.64</td>\n",
       "      <td>0.64</td>\n",
       "      <td>0.0</td>\n",
       "      <td>0.32</td>\n",
       "      <td>0.00</td>\n",
       "      <td>0.00</td>\n",
       "      <td>0.00</td>\n",
       "      <td>0.00</td>\n",
       "      <td>0.00</td>\n",
       "      <td>...</td>\n",
       "      <td>0.00</td>\n",
       "      <td>0.000</td>\n",
       "      <td>0.0</td>\n",
       "      <td>0.778</td>\n",
       "      <td>0.000</td>\n",
       "      <td>0.000</td>\n",
       "      <td>3.756</td>\n",
       "      <td>61</td>\n",
       "      <td>278</td>\n",
       "      <td>1</td>\n",
       "    </tr>\n",
       "    <tr>\n",
       "      <th>1</th>\n",
       "      <td>0.21</td>\n",
       "      <td>0.28</td>\n",
       "      <td>0.50</td>\n",
       "      <td>0.0</td>\n",
       "      <td>0.14</td>\n",
       "      <td>0.28</td>\n",
       "      <td>0.21</td>\n",
       "      <td>0.07</td>\n",
       "      <td>0.00</td>\n",
       "      <td>0.94</td>\n",
       "      <td>...</td>\n",
       "      <td>0.00</td>\n",
       "      <td>0.132</td>\n",
       "      <td>0.0</td>\n",
       "      <td>0.372</td>\n",
       "      <td>0.180</td>\n",
       "      <td>0.048</td>\n",
       "      <td>5.114</td>\n",
       "      <td>101</td>\n",
       "      <td>1028</td>\n",
       "      <td>1</td>\n",
       "    </tr>\n",
       "    <tr>\n",
       "      <th>2</th>\n",
       "      <td>0.06</td>\n",
       "      <td>0.00</td>\n",
       "      <td>0.71</td>\n",
       "      <td>0.0</td>\n",
       "      <td>1.23</td>\n",
       "      <td>0.19</td>\n",
       "      <td>0.19</td>\n",
       "      <td>0.12</td>\n",
       "      <td>0.64</td>\n",
       "      <td>0.25</td>\n",
       "      <td>...</td>\n",
       "      <td>0.01</td>\n",
       "      <td>0.143</td>\n",
       "      <td>0.0</td>\n",
       "      <td>0.276</td>\n",
       "      <td>0.184</td>\n",
       "      <td>0.010</td>\n",
       "      <td>9.821</td>\n",
       "      <td>485</td>\n",
       "      <td>2259</td>\n",
       "      <td>1</td>\n",
       "    </tr>\n",
       "    <tr>\n",
       "      <th>3</th>\n",
       "      <td>0.00</td>\n",
       "      <td>0.00</td>\n",
       "      <td>0.00</td>\n",
       "      <td>0.0</td>\n",
       "      <td>0.63</td>\n",
       "      <td>0.00</td>\n",
       "      <td>0.31</td>\n",
       "      <td>0.63</td>\n",
       "      <td>0.31</td>\n",
       "      <td>0.63</td>\n",
       "      <td>...</td>\n",
       "      <td>0.00</td>\n",
       "      <td>0.137</td>\n",
       "      <td>0.0</td>\n",
       "      <td>0.137</td>\n",
       "      <td>0.000</td>\n",
       "      <td>0.000</td>\n",
       "      <td>3.537</td>\n",
       "      <td>40</td>\n",
       "      <td>191</td>\n",
       "      <td>1</td>\n",
       "    </tr>\n",
       "    <tr>\n",
       "      <th>4</th>\n",
       "      <td>0.00</td>\n",
       "      <td>0.00</td>\n",
       "      <td>0.00</td>\n",
       "      <td>0.0</td>\n",
       "      <td>0.63</td>\n",
       "      <td>0.00</td>\n",
       "      <td>0.31</td>\n",
       "      <td>0.63</td>\n",
       "      <td>0.31</td>\n",
       "      <td>0.63</td>\n",
       "      <td>...</td>\n",
       "      <td>0.00</td>\n",
       "      <td>0.135</td>\n",
       "      <td>0.0</td>\n",
       "      <td>0.135</td>\n",
       "      <td>0.000</td>\n",
       "      <td>0.000</td>\n",
       "      <td>3.537</td>\n",
       "      <td>40</td>\n",
       "      <td>191</td>\n",
       "      <td>1</td>\n",
       "    </tr>\n",
       "  </tbody>\n",
       "</table>\n",
       "<p>5 rows × 58 columns</p>\n",
       "</div>"
      ],
      "text/plain": [
       "     0     1     2    3     4     5     6     7     8     9   ...    48  \\\n",
       "0  0.00  0.64  0.64  0.0  0.32  0.00  0.00  0.00  0.00  0.00  ...  0.00   \n",
       "1  0.21  0.28  0.50  0.0  0.14  0.28  0.21  0.07  0.00  0.94  ...  0.00   \n",
       "2  0.06  0.00  0.71  0.0  1.23  0.19  0.19  0.12  0.64  0.25  ...  0.01   \n",
       "3  0.00  0.00  0.00  0.0  0.63  0.00  0.31  0.63  0.31  0.63  ...  0.00   \n",
       "4  0.00  0.00  0.00  0.0  0.63  0.00  0.31  0.63  0.31  0.63  ...  0.00   \n",
       "\n",
       "      49   50     51     52     53     54   55    56  57  \n",
       "0  0.000  0.0  0.778  0.000  0.000  3.756   61   278   1  \n",
       "1  0.132  0.0  0.372  0.180  0.048  5.114  101  1028   1  \n",
       "2  0.143  0.0  0.276  0.184  0.010  9.821  485  2259   1  \n",
       "3  0.137  0.0  0.137  0.000  0.000  3.537   40   191   1  \n",
       "4  0.135  0.0  0.135  0.000  0.000  3.537   40   191   1  \n",
       "\n",
       "[5 rows x 58 columns]"
      ]
     },
     "execution_count": 86,
     "metadata": {},
     "output_type": "execute_result"
    }
   ],
   "source": [
    "data = pd.read_csv(data_dir + 'spam.data', delimiter = ' ', header=None)\n",
    "train_test = pd.read_csv(data_dir + 'spam.traintest.txt', header=None)\n",
    "\n",
    "data.head(5)"
   ]
  },
  {
   "cell_type": "code",
   "execution_count": 87,
   "metadata": {},
   "outputs": [],
   "source": [
    "data_train, data_test = data[train_test[0]==0], data[train_test[0]==1]\n",
    "\n",
    "X_train, Y_train = data_train.values[:, :-1], data_train.values[:, -1:]\n",
    "X_test, Y_test = data_test.values[:, :-1], data_test.values[:, -1:]\n",
    "\n",
    "N, p = X_train.shape"
   ]
  },
  {
   "cell_type": "markdown",
   "metadata": {},
   "source": [
    "> It's not a great idea to re-apply LS regression methods to a classification problem, but that seems to be the task given."
   ]
  },
  {
   "cell_type": "markdown",
   "metadata": {},
   "source": [
    "### 2.2 List of models"
   ]
  },
  {
   "cell_type": "code",
   "execution_count": 88,
   "metadata": {},
   "outputs": [],
   "source": [
    "def get_ols(x):\n",
    "    return Pipeline([('norm', StandardScaler()), ('regression', LinearRegression(fit_intercept=True))])\n",
    "\n",
    "def get_best_subset(k):\n",
    "    if k == 0:\n",
    "        return DummyRegressor()\n",
    "    \n",
    "    return Pipeline([('norm', StandardScaler()), ('regression', BestSubsetRegression(subset_size=k))])\n",
    "    \n",
    "def get_ridge(n_dofs):\n",
    "    if n_dofs == 0:\n",
    "        return DummyRegressor()\n",
    "    \n",
    "    return Pipeline([('norm', StandardScaler()), ('regression', RidgeRegressor(n_dofs=n_dofs))])\n",
    "\n",
    "def get_lasso(shrinkage):\n",
    "    if shrinkage == 0:\n",
    "        return DummyRegressor()\n",
    "    \n",
    "    if shrinkage == 1:\n",
    "        return LinearRegression()\n",
    "    \n",
    "    return Pipeline([('norm', StandardScaler()), ('regression', LassoRegressor(shrinkage=shrinkage))])\n",
    "\n",
    "def get_pcr(n_components):\n",
    "    if n_components == 0:\n",
    "        return DummyRegressor()\n",
    "    \n",
    "    return Pipeline([('norm', StandardScaler()), ('regression', PcrRegressor(n_components=n_components))])\n",
    "\n",
    "def get_pls(n_components):\n",
    "    if n_components == 0:\n",
    "        return DummyRegressor()   \n",
    "    \n",
    "    return Pipeline([('regression', PLSRegression(n_components=n_components, scale=True))])"
   ]
  },
  {
   "cell_type": "markdown",
   "metadata": {},
   "source": [
    "> Skipping best subset, not viable with so many predictors"
   ]
  },
  {
   "cell_type": "code",
   "execution_count": 89,
   "metadata": {},
   "outputs": [],
   "source": [
    "all_model_families = [\n",
    "    {'model_name': 'OLS', 'h_pars': [None], 'model_factory': get_ols},\n",
    "    #{'model_name': 'Best subset', 'h_pars': np.arange(3), 'hpar': 'subset size', 'model_factory': get_best_subset},\n",
    "    {'model_name': 'Ridge', 'h_pars': np.arange(0, p + 1, 3), 'hpar': '$n_{dof}$', 'model_factory': get_ridge},\n",
    "    {'model_name': 'LASSO', 'h_pars': np.linspace(0, 1, 21), 'hpar': 'shrinkage factor', 'model_factory': get_lasso},\n",
    "    {'model_name': 'PCR', 'h_pars': np.arange(0, 20, 1), 'hpar': 'number of directions', 'model_factory': get_pcr},\n",
    "    {'model_name': 'PLS', 'h_pars':  np.arange(0, 20, 1), 'hpar': 'number of directions', 'model_factory': get_pls}\n",
    "]"
   ]
  },
  {
   "cell_type": "markdown",
   "metadata": {},
   "source": [
    "### 2.3. Hyperparameter tuning using CV"
   ]
  },
  {
   "cell_type": "code",
   "execution_count": 90,
   "metadata": {},
   "outputs": [],
   "source": [
    "from sklearn.linear_model import Ridge, lars_path"
   ]
  },
  {
   "cell_type": "code",
   "execution_count": 91,
   "metadata": {},
   "outputs": [
    {
     "name": "stderr",
     "output_type": "stream",
     "text": [
      "100%|██████████| 5/5 [00:22<00:00,  4.18s/it]\n"
     ]
    }
   ],
   "source": [
    "for model_family in tqdm(all_model_families):\n",
    "    \n",
    "    error_means, error_stds = cv_error_stats(model_family['h_pars'], model_family['model_factory'],\n",
    "                                         n_cv_folds=n_cv_folds, cv_seed=cv_seed, \n",
    "                                         X_train=X_train, Y_train=Y_train)\n",
    "    \n",
    "    one_sd_index = np.argmax(np.array(error_means) - np.array(error_stds) <= min(error_means))\n",
    "    one_sd_par = model_family['h_pars'][one_sd_index]\n",
    "    \n",
    "    model_family['error_means'] = error_means\n",
    "    model_family['error_stds'] = error_stds\n",
    "    model_family['best_par'] = one_sd_par\n",
    "    model_family['best_model'] = model_family['model_factory'](one_sd_par)\n",
    "    model_family['best_model'].fit(X_train, Y_train)"
   ]
  },
  {
   "cell_type": "markdown",
   "metadata": {},
   "source": [
    "### 2.4. A look at results"
   ]
  },
  {
   "cell_type": "code",
   "execution_count": 92,
   "metadata": {},
   "outputs": [
    {
     "data": {
      "image/png": "[encoded data removed]",
      "text/plain": [
       "<Figure size 648x432 with 4 Axes>"
      ]
     },
     "metadata": {},
     "output_type": "display_data"
    }
   ],
   "source": [
    "n_cols = 3\n",
    "\n",
    "gs = gridspec.GridSpec(nrows=2, ncols=3)\n",
    "gs.update(wspace=0.5, hspace=0.7)\n",
    "\n",
    "fig = plt.figure(figsize=(9, 6))\n",
    "\n",
    "for i, mod in enumerate(all_model_families[1:]):\n",
    "    \n",
    "    ax = fig.add_subplot(gs[i // 3, i%3], )\n",
    "    ax.errorbar(mod['h_pars'], mod['error_means'], yerr = mod['error_stds'], fmt='--o', elinewidth = 1, \\\n",
    "             capsize = 2, **plt_style('dashed', 'thin', 'color1'),\n",
    "             label=mod['model_name'])\n",
    "\n",
    "    ax.plot([mod['best_par'], mod['best_par']], [0, 2], **plt_style('thin', 'color2'))\n",
    "    ax.set_ylim((0.0, 0.3))\n",
    "    ax.set_xlabel(mod['hpar'])\n",
    "    ax.set_ylabel(\"CV Error\")\n",
    "    ax.set_title(mod['model_name'])\n",
    "\n",
    "fig.savefig('../../notes/Figures/E3p17_B.pdf', bbox_inches='tight', pad_inches = 0)"
   ]
  },
  {
   "cell_type": "markdown",
   "metadata": {
    "collapsed": true
   },
   "source": [
    "### 2.4. Results table"
   ]
  },
  {
   "cell_type": "code",
   "execution_count": 93,
   "metadata": {},
   "outputs": [
    {
     "name": "stdout",
     "output_type": "stream",
     "text": [
      "\\begin{tabular}{llllll}\n",
      "\\toprule\n",
      "{} &    OLS &  Ridge &  LASSO &    PCR &    PLS \\\\\n",
      "\\midrule\n",
      "Test Error     &  0.121 &  0.117 &  0.122 &  0.126 &  0.123 \\\\\n",
      "Test Error Std &  0.007 &  0.005 &  0.007 &  0.005 &  0.008 \\\\\n",
      "\\bottomrule\n",
      "\\end{tabular}\n",
      "\n"
     ]
    }
   ],
   "source": [
    "print(models_table(all_model_families, include_coefficients=False).to_latex())"
   ]
  },
  {
   "cell_type": "code",
   "execution_count": null,
   "metadata": {},
   "outputs": [],
   "source": []
  }
 ],
 "metadata": {
  "kernelspec": {
   "display_name": "Python 3",
   "language": "python",
   "name": "python3"
  },
  "language_info": {
   "codemirror_mode": {
    "name": "ipython",
    "version": 3
   },
   "file_extension": ".py",
   "mimetype": "text/x-python",
   "name": "python",
   "nbconvert_exporter": "python",
   "pygments_lexer": "ipython3",
   "version": "3.7.3"
  }
 },
 "nbformat": 4,
 "nbformat_minor": 2
}

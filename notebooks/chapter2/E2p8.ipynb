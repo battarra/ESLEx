{
 "cells": [
  {
   "cell_type": "markdown",
   "metadata": {},
   "source": [
    "# *Elements of Statistical Learning* - Exercise 2.8"
   ]
  },
  {
   "cell_type": "markdown",
   "metadata": {},
   "source": [
    "> **Author**: Lorenzo BATTARRA\n",
    ">\n",
    "> **Last reviewed**: 2019/12/07"
   ]
  },
  {
   "cell_type": "markdown",
   "metadata": {},
   "source": [
    "## 0. Imports"
   ]
  },
  {
   "cell_type": "code",
   "execution_count": 1,
   "metadata": {},
   "outputs": [],
   "source": [
    "import pandas as pd\n",
    "import numpy as np\n",
    "import matplotlib.pyplot as plt"
   ]
  },
  {
   "cell_type": "code",
   "execution_count": 2,
   "metadata": {},
   "outputs": [],
   "source": [
    "#Add `pyesl` path\n",
    "\n",
    "import os, sys\n",
    "sys.path.append(os.path.dirname(os.path.dirname(os.getcwd())))"
   ]
  },
  {
   "cell_type": "code",
   "execution_count": 3,
   "metadata": {},
   "outputs": [],
   "source": [
    "data_dir = '../../Data/'"
   ]
  },
  {
   "cell_type": "markdown",
   "metadata": {},
   "source": [
    "## 1. Loading data"
   ]
  },
  {
   "cell_type": "code",
   "execution_count": 4,
   "metadata": {},
   "outputs": [],
   "source": [
    "# usecols is needed as there are trailing spaces, hence a column filled with NaNs\n",
    "\n",
    "zip_train = pd.read_csv(os.path.join(data_dir, 'zip.train.gz'), header=None, sep=' ', usecols=list(range(257)))\n",
    "zip_test = pd.read_csv(os.path.join(data_dir, 'zip.test.gz'), header=None, sep=' ', usecols=list(range(257)))"
   ]
  },
  {
   "cell_type": "code",
   "execution_count": 5,
   "metadata": {},
   "outputs": [],
   "source": [
    "# filter out only the 2's and the 3's\n",
    "\n",
    "zip_train = zip_train.loc[(zip_train[0] == 2) | (zip_train[0] == 3)]\n",
    "zip_test = zip_test.loc[(zip_test[0] == 2) | (zip_test[0] == 3)]"
   ]
  },
  {
   "cell_type": "code",
   "execution_count": 6,
   "metadata": {},
   "outputs": [],
   "source": [
    "# extract responses: column 0\n",
    "\n",
    "zip_train_Y = np.array(zip_train[0])\n",
    "zip_test_Y = np.array(zip_test[0])\n",
    "\n",
    "# extract predictors: drop column 0\n",
    "\n",
    "zip_train.drop([0], axis = 1, inplace = True)\n",
    "zip_test.drop([0], axis = 1, inplace = True)\n",
    "zip_train_X = np.array(zip_train)\n",
    "zip_test_X = np.array(zip_test)"
   ]
  },
  {
   "cell_type": "markdown",
   "metadata": {},
   "source": [
    "## 2. Training"
   ]
  },
  {
   "cell_type": "markdown",
   "metadata": {},
   "source": [
    "### Importing models from `pyesl`"
   ]
  },
  {
   "cell_type": "code",
   "execution_count": 7,
   "metadata": {},
   "outputs": [],
   "source": [
    "from pyesl.ch2 import OLSClassifier, KNNClassifier"
   ]
  },
  {
   "cell_type": "markdown",
   "metadata": {},
   "source": [
    "### Training"
   ]
  },
  {
   "cell_type": "code",
   "execution_count": 8,
   "metadata": {},
   "outputs": [
    {
     "name": "stdout",
     "output_type": "stream",
     "text": [
      "OLS: Training error 0.0058, Test errror 0.0412\n",
      "1-NN: Training error 0.0000, Test errror 0.0247\n",
      "2-NN: Training error 0.0058, Test errror 0.0247\n",
      "3-NN: Training error 0.0050, Test errror 0.0302\n",
      "4-NN: Training error 0.0043, Test errror 0.0275\n",
      "5-NN: Training error 0.0058, Test errror 0.0302\n",
      "6-NN: Training error 0.0050, Test errror 0.0302\n",
      "7-NN: Training error 0.0065, Test errror 0.0330\n",
      "8-NN: Training error 0.0058, Test errror 0.0330\n",
      "9-NN: Training error 0.0094, Test errror 0.0357\n",
      "10-NN: Training error 0.0079, Test errror 0.0357\n",
      "11-NN: Training error 0.0086, Test errror 0.0357\n",
      "12-NN: Training error 0.0072, Test errror 0.0357\n",
      "13-NN: Training error 0.0086, Test errror 0.0385\n",
      "14-NN: Training error 0.0086, Test errror 0.0385\n",
      "15-NN: Training error 0.0094, Test errror 0.0385\n",
      "16-NN: Training error 0.0094, Test errror 0.0357\n",
      "17-NN: Training error 0.0108, Test errror 0.0385\n",
      "18-NN: Training error 0.0115, Test errror 0.0385\n",
      "19-NN: Training error 0.0108, Test errror 0.0412\n",
      "20-NN: Training error 0.0122, Test errror 0.0412\n",
      "21-NN: Training error 0.0130, Test errror 0.0412\n",
      "22-NN: Training error 0.0130, Test errror 0.0412\n",
      "23-NN: Training error 0.0137, Test errror 0.0412\n",
      "24-NN: Training error 0.0137, Test errror 0.0412\n",
      "25-NN: Training error 0.0144, Test errror 0.0412\n"
     ]
    }
   ],
   "source": [
    "models = {\n",
    "    \"OLS\": OLSClassifier()\n",
    "}\n",
    "\n",
    "ks = np.array(range(1, 26))\n",
    "for k in ks:\n",
    "    models[str(k) + \"-NN\"] = KNNClassifier(k)    \n",
    "    \n",
    "errors = {}\n",
    "\n",
    "for name, model in models.items():\n",
    "    model.train(zip_train_X, zip_train_Y)\n",
    "    trainingError = 1.0 - np.average(zip_train_Y == model.predict(zip_train_X))\n",
    "    testError = 1.0 - np.average(zip_test_Y == model.predict(zip_test_X))\n",
    "    \n",
    "    print((\"{0}: Training error {1:.4f}, Test errror {2:.4f}\").format(name, trainingError, testError))\n",
    "    \n",
    "    errors[name] = {\"training\": trainingError, \"test\": testError}"
   ]
  },
  {
   "cell_type": "markdown",
   "metadata": {},
   "source": [
    "### Plotting"
   ]
  },
  {
   "cell_type": "code",
   "execution_count": 9,
   "metadata": {
    "scrolled": true
   },
   "outputs": [
    {
     "data": {
      "image/png": "[encoded data removed]",
      "text/plain": [
       "<Figure size 288x288 with 1 Axes>"
      ]
     },
     "metadata": {
      "needs_background": "light"
     },
     "output_type": "display_data"
    }
   ],
   "source": [
    "figWidth = 4\n",
    "figHeight = 4\n",
    "\n",
    "col1 = 'tab:blue'\n",
    "col2 = 'tab:red'\n",
    "\n",
    "lw_small = 1\n",
    "lw_large = 1.5\n",
    "\n",
    "ms_small = 1\n",
    "ms_large = 2\n",
    "\n",
    "style_1 = '-'\n",
    "style_2 = '--'\n",
    "\n",
    "fig = plt.figure(figsize=(figWidth,figHeight))\n",
    "ax = fig.add_subplot(111)\n",
    "\n",
    "ax.plot(ks, np.repeat(errors[\"OLS\"][\"training\"], 25), color = col1, linestyle = style_2, linewidth = lw_small, markersize = ms_small, label='OLS training')\n",
    "ax.plot(ks, np.repeat(errors[\"OLS\"][\"test\"], 25), color = col1, linestyle = style_1, linewidth = lw_large, markersize = ms_large,  label='OLS test')\n",
    "ax.plot(ks, np.array([errors[str(k) + \"-NN\"][\"training\"] for k in range(1, 26)]), color = col2, linestyle = style_2, linewidth = lw_small, marker='o', markersize = ms_small, label='k-NN training')\n",
    "ax.plot(ks, np.array([errors[str(k) + \"-NN\"][\"test\"] for k in range(1, 26)]), color = col2, linestyle = style_1, linewidth = lw_large, marker='s',  markersize= ms_large, label='k-NN test')\n",
    "ax.grid(True)\n",
    "\n",
    "ax.set_xlabel('k')\n",
    "ax.set_ylabel('error rate')\n",
    "ax.legend()\n",
    "plt.show()\n"
   ]
  },
  {
   "cell_type": "code",
   "execution_count": 10,
   "metadata": {},
   "outputs": [],
   "source": [
    "ax.get_figure().savefig('../../notes/Figures/E2p8_A.pdf', bbox_inches='tight', pad_inches = 0)"
   ]
  },
  {
   "cell_type": "code",
   "execution_count": null,
   "metadata": {},
   "outputs": [],
   "source": []
  }
 ],
 "metadata": {
  "kernelspec": {
   "display_name": "Python 3",
   "language": "python",
   "name": "python3"
  },
  "language_info": {
   "codemirror_mode": {
    "name": "ipython",
    "version": 3
   },
   "file_extension": ".py",
   "mimetype": "text/x-python",
   "name": "python",
   "nbconvert_exporter": "python",
   "pygments_lexer": "ipython3",
   "version": "3.7.3"
  }
 },
 "nbformat": 4,
 "nbformat_minor": 2
}

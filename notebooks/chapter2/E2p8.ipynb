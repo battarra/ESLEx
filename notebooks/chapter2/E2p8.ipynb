{
 "cells": [
  {
   "cell_type": "markdown",
   "metadata": {},
   "source": [
    "# *Elements of Statistical Learning* - Exercise 2.8"
   ]
  },
  {
   "cell_type": "markdown",
   "metadata": {},
   "source": [
    "> **Author**: Lorenzo BATTARRA\n",
    ">\n",
    "> **Last reviewed**: 2019/12/22"
   ]
  },
  {
   "cell_type": "markdown",
   "metadata": {},
   "source": [
    "## 0. Imports"
   ]
  },
  {
   "cell_type": "code",
   "execution_count": 1,
   "metadata": {},
   "outputs": [],
   "source": [
    "import pandas as pd\n",
    "import numpy as np\n",
    "import matplotlib.pyplot as plt\n",
    "from tqdm import tqdm"
   ]
  },
  {
   "cell_type": "code",
   "execution_count": 2,
   "metadata": {},
   "outputs": [],
   "source": [
    "# matplotlib styling\n",
    "\n",
    "#plt.style.available[:20]\n",
    "plt.style.use('ggplot')"
   ]
  },
  {
   "cell_type": "code",
   "execution_count": 3,
   "metadata": {},
   "outputs": [],
   "source": [
    "#Add `pyesl` path\n",
    "\n",
    "import os, sys\n",
    "sys.path.append(os.path.dirname(os.path.dirname(os.getcwd())))\n",
    "\n",
    "from pyesl.esl_helpers import plt_style"
   ]
  },
  {
   "cell_type": "code",
   "execution_count": 4,
   "metadata": {},
   "outputs": [],
   "source": [
    "data_dir = '../../Data/'"
   ]
  },
  {
   "cell_type": "markdown",
   "metadata": {},
   "source": [
    "## 1. Loading data"
   ]
  },
  {
   "cell_type": "code",
   "execution_count": 5,
   "metadata": {},
   "outputs": [],
   "source": [
    "# usecols is needed as there are trailing spaces, hence a column filled with NaNs\n",
    "\n",
    "zip_train = pd.read_csv(os.path.join(data_dir, 'zip.train.gz'), header=None, sep=' ', usecols=list(range(257)))\n",
    "zip_test = pd.read_csv(os.path.join(data_dir, 'zip.test.gz'), header=None, sep=' ', usecols=list(range(257)))"
   ]
  },
  {
   "cell_type": "code",
   "execution_count": 6,
   "metadata": {},
   "outputs": [],
   "source": [
    "# filter out only the 2's and the 3's\n",
    "\n",
    "zip_train = zip_train.loc[(zip_train[0] == 2) | (zip_train[0] == 3)]\n",
    "zip_test = zip_test.loc[(zip_test[0] == 2) | (zip_test[0] == 3)]"
   ]
  },
  {
   "cell_type": "code",
   "execution_count": 7,
   "metadata": {},
   "outputs": [],
   "source": [
    "# extract responses: column 0\n",
    "\n",
    "zip_train_Y = np.array(zip_train[0])\n",
    "zip_test_Y = np.array(zip_test[0])\n",
    "\n",
    "# extract predictors: drop column 0\n",
    "\n",
    "zip_train.drop([0], axis = 1, inplace = True)\n",
    "zip_test.drop([0], axis = 1, inplace = True)\n",
    "zip_train_X = np.array(zip_train)\n",
    "zip_test_X = np.array(zip_test)"
   ]
  },
  {
   "cell_type": "markdown",
   "metadata": {},
   "source": [
    "## 3. Training"
   ]
  },
  {
   "cell_type": "markdown",
   "metadata": {},
   "source": [
    "### Importing models from `pyesl` and `scikit-learn`"
   ]
  },
  {
   "cell_type": "code",
   "execution_count": 9,
   "metadata": {},
   "outputs": [],
   "source": [
    "# implemented OLS classification and KNN classification from scratch\n",
    "# to illustrate inner workings - terribly suboptimal :)\n",
    "\n",
    "from pyesl.ch2 import OLSClassifier, KNNClassifier"
   ]
  },
  {
   "cell_type": "markdown",
   "metadata": {},
   "source": [
    "### Training"
   ]
  },
  {
   "cell_type": "code",
   "execution_count": 10,
   "metadata": {},
   "outputs": [
    {
     "name": "stderr",
     "output_type": "stream",
     "text": [
      "100%|██████████| 26/26 [00:04<00:00,  5.43it/s]\n"
     ]
    },
    {
     "data": {
      "text/html": [
       "<div>\n",
       "<style scoped>\n",
       "    .dataframe tbody tr th:only-of-type {\n",
       "        vertical-align: middle;\n",
       "    }\n",
       "\n",
       "    .dataframe tbody tr th {\n",
       "        vertical-align: top;\n",
       "    }\n",
       "\n",
       "    .dataframe thead th {\n",
       "        text-align: right;\n",
       "    }\n",
       "</style>\n",
       "<table border=\"1\" class=\"dataframe\">\n",
       "  <thead>\n",
       "    <tr style=\"text-align: right;\">\n",
       "      <th></th>\n",
       "      <th>train_error</th>\n",
       "      <th>test_error</th>\n",
       "    </tr>\n",
       "  </thead>\n",
       "  <tbody>\n",
       "    <tr>\n",
       "      <th>OLS</th>\n",
       "      <td>0.005760</td>\n",
       "      <td>0.041209</td>\n",
       "    </tr>\n",
       "    <tr>\n",
       "      <th>1-NN</th>\n",
       "      <td>0.000000</td>\n",
       "      <td>0.024725</td>\n",
       "    </tr>\n",
       "    <tr>\n",
       "      <th>2-NN</th>\n",
       "      <td>0.005760</td>\n",
       "      <td>0.024725</td>\n",
       "    </tr>\n",
       "    <tr>\n",
       "      <th>3-NN</th>\n",
       "      <td>0.005040</td>\n",
       "      <td>0.030220</td>\n",
       "    </tr>\n",
       "    <tr>\n",
       "      <th>4-NN</th>\n",
       "      <td>0.004320</td>\n",
       "      <td>0.027473</td>\n",
       "    </tr>\n",
       "    <tr>\n",
       "      <th>5-NN</th>\n",
       "      <td>0.005760</td>\n",
       "      <td>0.030220</td>\n",
       "    </tr>\n",
       "    <tr>\n",
       "      <th>6-NN</th>\n",
       "      <td>0.005040</td>\n",
       "      <td>0.030220</td>\n",
       "    </tr>\n",
       "    <tr>\n",
       "      <th>7-NN</th>\n",
       "      <td>0.006479</td>\n",
       "      <td>0.032967</td>\n",
       "    </tr>\n",
       "    <tr>\n",
       "      <th>8-NN</th>\n",
       "      <td>0.005760</td>\n",
       "      <td>0.032967</td>\n",
       "    </tr>\n",
       "    <tr>\n",
       "      <th>9-NN</th>\n",
       "      <td>0.009359</td>\n",
       "      <td>0.035714</td>\n",
       "    </tr>\n",
       "  </tbody>\n",
       "</table>\n",
       "</div>"
      ],
      "text/plain": [
       "      train_error  test_error\n",
       "OLS      0.005760    0.041209\n",
       "1-NN     0.000000    0.024725\n",
       "2-NN     0.005760    0.024725\n",
       "3-NN     0.005040    0.030220\n",
       "4-NN     0.004320    0.027473\n",
       "5-NN     0.005760    0.030220\n",
       "6-NN     0.005040    0.030220\n",
       "7-NN     0.006479    0.032967\n",
       "8-NN     0.005760    0.032967\n",
       "9-NN     0.009359    0.035714"
      ]
     },
     "execution_count": 10,
     "metadata": {},
     "output_type": "execute_result"
    }
   ],
   "source": [
    "models = {\n",
    "    \"OLS\": OLSClassifier()\n",
    "}\n",
    "\n",
    "ks = np.array(range(1, 26))\n",
    "\n",
    "for k in ks:\n",
    "    models[str(k) + \"-NN\"] = KNNClassifier(k=k)    \n",
    "    \n",
    "errors_df = pd.DataFrame(columns=['train_error', 'test_error'])\n",
    "\n",
    "for name, model in tqdm(list(models.items())):\n",
    "    model.fit(zip_train_X, zip_train_Y)\n",
    "    \n",
    "    trainingError = 1.0 - np.average(zip_train_Y == model.predict(zip_train_X))\n",
    "    testError = 1.0 - np.average(zip_test_Y == model.predict(zip_test_X))\n",
    "    \n",
    "    errors_df.loc[name] = [trainingError, testError]\n",
    "    \n",
    "errors_df.head(10)"
   ]
  },
  {
   "cell_type": "code",
   "execution_count": 11,
   "metadata": {},
   "outputs": [
    {
     "data": {
      "image/png": "[encoded data removed]",
      "text/plain": [
       "<Figure size 288x288 with 1 Axes>"
      ]
     },
     "metadata": {},
     "output_type": "display_data"
    }
   ],
   "source": [
    "figWidth = 4\n",
    "figHeight = 4\n",
    "\n",
    "fig = plt.figure(figsize=(figWidth,figHeight))\n",
    "ax = fig.add_subplot(111)\n",
    "\n",
    "ax.plot(ks, np.repeat(errors_df.loc[\"OLS\", \"train_error\"], 25), \n",
    "        label='OLS training', **plt_style('dashed', 'thin', 'color1'))\n",
    "\n",
    "ax.plot(ks, np.repeat(errors_df.loc[\"OLS\", \"test_error\"], 25), \n",
    "        label='OLS test', **plt_style('thick', 'color1'))\n",
    "\n",
    "ax.plot(ks, errors_df.loc[errors_df.index != 'OLS', 'train_error'], \n",
    "        label='k-NN training', **plt_style('dashed', 'thin', 'mark_small', 'color2'))\n",
    "\n",
    "ax.plot(ks, errors_df.loc[errors_df.index != 'OLS', 'test_error'], \n",
    "        label='k-NN training', **plt_style('thick', 'mark_large', 'color2'))\n",
    "\n",
    "ax.set_xlabel('k')\n",
    "ax.set_ylabel('error rate')\n",
    "ax.legend()\n",
    "\n",
    "plt.show()"
   ]
  },
  {
   "cell_type": "code",
   "execution_count": 12,
   "metadata": {},
   "outputs": [],
   "source": [
    "ax.get_figure().savefig('../../notes/Figures/E2p8_A.pdf', bbox_inches='tight', pad_inches = 0)"
   ]
  },
  {
   "cell_type": "code",
   "execution_count": null,
   "metadata": {},
   "outputs": [],
   "source": []
  }
 ],
 "metadata": {
  "kernelspec": {
   "display_name": "Python 3",
   "language": "python",
   "name": "python3"
  },
  "language_info": {
   "codemirror_mode": {
    "name": "ipython",
    "version": 3
   },
   "file_extension": ".py",
   "mimetype": "text/x-python",
   "name": "python",
   "nbconvert_exporter": "python",
   "pygments_lexer": "ipython3",
   "version": "3.7.3"
  }
 },
 "nbformat": 4,
 "nbformat_minor": 2
}
